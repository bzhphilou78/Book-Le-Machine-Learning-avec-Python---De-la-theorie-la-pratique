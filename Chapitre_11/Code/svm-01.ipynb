{
 "cells": [
  {
   "cell_type": "code",
   "execution_count": 1,
   "metadata": {},
   "outputs": [],
   "source": [
    "import pandas as pd\n",
    "from sklearn.metrics import precision_recall_fscore_support as score\n",
    "from sklearn.model_selection import train_test_split\n",
    "from sklearn  import svm\n",
    "import numpy as np\n",
    " "
   ]
  },
  {
   "cell_type": "code",
   "execution_count": 2,
   "metadata": {},
   "outputs": [],
   "source": [
    "data_origin = pd.read_csv('../Data/creditcard.csv', sep=',')"
   ]
  },
  {
   "cell_type": "code",
   "execution_count": 3,
   "metadata": {},
   "outputs": [],
   "source": [
    "data= data_origin[['Time', 'Amount', 'V1', 'V2', 'V3', 'V4', 'V5', 'V6', 'V7', 'V8', 'V9', 'V10',\n",
    "       'V11', 'V12', 'V13', 'V14', 'V15', 'V16', 'V17', 'V18', 'V19', 'V20',\n",
    "       'V21', 'V22', 'V23', 'V24', 'V25', 'V26', 'V27', 'V28']].copy()"
   ]
  },
  {
   "cell_type": "code",
   "execution_count": 4,
   "metadata": {},
   "outputs": [],
   "source": [
    "y =data_origin['Class']"
   ]
  },
  {
   "cell_type": "code",
   "execution_count": 5,
   "metadata": {},
   "outputs": [],
   "source": [
    "x_train, x_test, y_train, y_test = train_test_split(data, y, test_size=0.2)"
   ]
  },
  {
   "cell_type": "code",
   "execution_count": 6,
   "metadata": {
    "scrolled": true
   },
   "outputs": [
    {
     "name": "stdout",
     "output_type": "stream",
     "text": [
      "La taille des données d'enraînement X = (227845, 30)\n",
      "La taille des données d'enraînement Y = (227845,)\n",
      "La taille des données de test X = (56962, 30)\n",
      "La taille des données de test Y = (56962,)\n"
     ]
    }
   ],
   "source": [
    "print('La taille des données d\\'enraînement X = {}'.format(np.shape(x_train)))\n",
    "print('La taille des données d\\'enraînement Y = {}'.format(np.shape(y_train)))\n",
    "print('La taille des données de test X = {}'.format(np.shape(x_test)))\n",
    "print('La taille des données de test Y = {}'.format(np.shape(y_test)))"
   ]
  },
  {
   "cell_type": "code",
   "execution_count": 7,
   "metadata": {},
   "outputs": [
    {
     "name": "stdout",
     "output_type": "stream",
     "text": [
      "Transactions frauduleuses dans y_train =  394\n",
      "Transactions frauduleuses dans y_test =  98\n"
     ]
    }
   ],
   "source": [
    "print('Transactions frauduleuses dans y_train = ',sum(y_train))\n",
    "print('Transactions frauduleuses dans y_test = ',sum(y_test))\n"
   ]
  },
  {
   "cell_type": "code",
   "execution_count": 10,
   "metadata": {},
   "outputs": [],
   "source": [
    "alg_svm= svm.SVC(kernel = 'linear')"
   ]
  },
  {
   "cell_type": "code",
   "execution_count": 11,
   "metadata": {
    "scrolled": true
   },
   "outputs": [
    {
     "data": {
      "text/plain": [
       "SVC()"
      ]
     },
     "execution_count": 11,
     "metadata": {},
     "output_type": "execute_result"
    }
   ],
   "source": [
    "alg_svm.fit(x_train, y_train)"
   ]
  },
  {
   "cell_type": "code",
   "execution_count": 12,
   "metadata": {},
   "outputs": [
    {
     "name": "stdout",
     "output_type": "stream",
     "text": [
      "Le nombre de vecteurs supports est de : 855\n"
     ]
    }
   ],
   "source": [
    "print(f\"Le nombre de vecteurs supports est de : {len(alg_svm.support_vectors_)}\")"
   ]
  },
  {
   "cell_type": "code",
   "execution_count": 13,
   "metadata": {
    "scrolled": true
   },
   "outputs": [
    {
     "name": "stdout",
     "output_type": "stream",
     "text": [
      "Le nombre de vecteurs supports par classe : [461 394]\n"
     ]
    }
   ],
   "source": [
    "print(f\"Le nombre de vecteurs supports par classe : {alg_svm.n_support_}\")"
   ]
  },
  {
   "cell_type": "code",
   "execution_count": 14,
   "metadata": {},
   "outputs": [
    {
     "name": "stdout",
     "output_type": "stream",
     "text": [
      "Les classes ou les catégories manipulées sont : [0 1]\n"
     ]
    }
   ],
   "source": [
    "print(f\"Les classes ou les catégories manipulées sont : {alg_svm.classes_}\")"
   ]
  },
  {
   "cell_type": "code",
   "execution_count": 15,
   "metadata": {},
   "outputs": [],
   "source": [
    "predictions = alg_svm.predict(x_test)"
   ]
  },
  {
   "cell_type": "code",
   "execution_count": 16,
   "metadata": {},
   "outputs": [
    {
     "name": "stdout",
     "output_type": "stream",
     "text": [
      "Le nombre de cas positifs est :  0\n"
     ]
    }
   ],
   "source": [
    "print('Le nombre de cas positifs est : ', sum(predictions))"
   ]
  },
  {
   "cell_type": "code",
   "execution_count": 17,
   "metadata": {},
   "outputs": [
    {
     "name": "stderr",
     "output_type": "stream",
     "text": [
      "C:\\ProgramData\\Anaconda3\\lib\\site-packages\\sklearn\\metrics\\_classification.py:1221: UndefinedMetricWarning: Precision and F-score are ill-defined and being set to 0.0 due to no predicted samples. Use `zero_division` parameter to control this behavior.\n",
      "  _warn_prf(average, modifier, msg_start, len(result))\n"
     ]
    }
   ],
   "source": [
    "precision, recall, _, _ = score(y_test, predictions, pos_label=1, average='binary')"
   ]
  },
  {
   "cell_type": "code",
   "execution_count": 18,
   "metadata": {},
   "outputs": [],
   "source": [
    " accuracy = round((predictions==y_test).sum() / len(predictions),3)"
   ]
  },
  {
   "cell_type": "code",
   "execution_count": 19,
   "metadata": {},
   "outputs": [
    {
     "name": "stdout",
     "output_type": "stream",
     "text": [
      "Precision: 0.0 / Recall: 0.0 / Accuracy: 0.998\n"
     ]
    }
   ],
   "source": [
    "print('Precision: {} / Recall: {} / Accuracy: {}'.format(round(precision, 3), round(recall, 3), accuracy))"
   ]
  },
  {
   "cell_type": "code",
   "execution_count": 17,
   "metadata": {
    "scrolled": true
   },
   "outputs": [
    {
     "data": {
      "text/plain": [
       "array([[ 6.74150000e+04,  2.00000000e+00, -1.28041728e+00, ...,\n",
       "        -8.52532988e-02,  5.58792344e-01,  2.44011472e-01],\n",
       "       [ 1.72745000e+05,  6.75000000e+00,  1.91137703e+00, ...,\n",
       "        -3.35829687e-01, -1.15788590e-03,  1.75559411e-02],\n",
       "       [ 1.56324000e+05,  1.00000000e+01, -5.56132521e+00, ...,\n",
       "        -1.15019679e-01,  2.42229698e-02,  1.65490640e-02],\n",
       "       ...,\n",
       "       [ 1.54181000e+05,  7.60000000e-01, -5.49615438e-01, ...,\n",
       "         6.47302275e-01,  1.71929195e-01,  1.17188228e-01],\n",
       "       [ 1.55359000e+05,  7.70000000e-01, -1.06771327e+00, ...,\n",
       "         5.35054735e-01,  5.39263072e-01,  1.24255056e-01],\n",
       "       [ 1.55548000e+05,  7.06000000e+00,  1.87823003e+00, ...,\n",
       "        -2.60098798e-03, -2.66665674e-02,  5.23766738e-03]])"
      ]
     },
     "execution_count": 17,
     "metadata": {},
     "output_type": "execute_result"
    }
   ],
   "source": [
    "alg_svm.support_vectors_"
   ]
  },
  {
   "cell_type": "code",
   "execution_count": null,
   "metadata": {},
   "outputs": [],
   "source": []
  }
 ],
 "metadata": {
  "kernelspec": {
   "display_name": "Python 3",
   "language": "python",
   "name": "python3"
  },
  "language_info": {
   "codemirror_mode": {
    "name": "ipython",
    "version": 3
   },
   "file_extension": ".py",
   "mimetype": "text/x-python",
   "name": "python",
   "nbconvert_exporter": "python",
   "pygments_lexer": "ipython3",
   "version": "3.8.5"
  }
 },
 "nbformat": 4,
 "nbformat_minor": 4
}

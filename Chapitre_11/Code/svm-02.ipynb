{
 "cells": [
  {
   "cell_type": "code",
   "execution_count": 16,
   "metadata": {},
   "outputs": [],
   "source": [
    "import pandas as pd\n",
    "from sklearn.metrics import precision_recall_fscore_support as score\n",
    "from sklearn.model_selection import train_test_split\n",
    "from sklearn  import svm\n",
    "import numpy as np\n",
    "\n",
    "data_origin = pd.read_csv('../Data/creditcard.csv', sep=',')\n",
    "\n",
    "data= data_origin[['V1', 'V2', 'V3', 'V4', 'V5', 'V6', 'V7', 'V8', 'V9', 'V10', 'V11', 'V12', 'V13', 'V14', 'V15', 'V16', 'V17', 'V18', 'V19', 'V20', 'V21', 'V22', 'V23', 'V24', 'V25', 'V26', 'V27', 'V28']].copy()\n",
    "\n",
    "y =data_origin['Class']\n",
    "\n",
    "x_train, x_test, y_train, y_test = train_test_split(data, y, test_size=0.2)\n",
    "\n",
    "alg_svm= svm.SVC(kernel = 'linear', C=0.5)\n",
    "\n"
   ]
  },
  {
   "cell_type": "code",
   "execution_count": 17,
   "metadata": {},
   "outputs": [
    {
     "data": {
      "text/plain": [
       "0.5"
      ]
     },
     "execution_count": 17,
     "metadata": {},
     "output_type": "execute_result"
    }
   ],
   "source": [
    "alg_svm.C"
   ]
  },
  {
   "cell_type": "code",
   "execution_count": 18,
   "metadata": {},
   "outputs": [
    {
     "data": {
      "text/plain": [
       "SVC(C=0.5, kernel='linear')"
      ]
     },
     "execution_count": 18,
     "metadata": {},
     "output_type": "execute_result"
    }
   ],
   "source": [
    "alg_svm.fit(x_train, y_train)"
   ]
  },
  {
   "cell_type": "code",
   "execution_count": 19,
   "metadata": {},
   "outputs": [
    {
     "name": "stdout",
     "output_type": "stream",
     "text": [
      "Precision: 0.829 / Recall: 0.708 / Accuracy: 0.999\n",
      "Le modèle prédit 76 transactions frauduleuse\n",
      "Dans les données de test, il y a 89 transactions frauduleuses\n"
     ]
    }
   ],
   "source": [
    "\n",
    "\n",
    "predictions = alg_svm.predict(x_test)\n",
    "\n",
    "precision, recall, _, _ = score(y_test, predictions, pos_label=1, average='binary')\n",
    "\n",
    "accuracy = round((predictions==y_test).sum()/len(predictions),3)\n",
    "\n",
    "print('Precision: {} / Recall: {} / Accuracy: {}'.format(round(precision, 3), round(recall, 3), accuracy))\n",
    "\n",
    "print('Le modèle prédit {} transactions frauduleuse'.format(sum(predictions)))\n",
    "\n",
    "print('Dans les données de test, il y a {} transactions frauduleuses'.format(sum(y_test)))\n"
   ]
  },
  {
   "cell_type": "code",
   "execution_count": null,
   "metadata": {},
   "outputs": [],
   "source": []
  }
 ],
 "metadata": {
  "kernelspec": {
   "display_name": "Python 3",
   "language": "python",
   "name": "python3"
  },
  "language_info": {
   "codemirror_mode": {
    "name": "ipython",
    "version": 3
   },
   "file_extension": ".py",
   "mimetype": "text/x-python",
   "name": "python",
   "nbconvert_exporter": "python",
   "pygments_lexer": "ipython3",
   "version": "3.8.5"
  }
 },
 "nbformat": 4,
 "nbformat_minor": 4
}

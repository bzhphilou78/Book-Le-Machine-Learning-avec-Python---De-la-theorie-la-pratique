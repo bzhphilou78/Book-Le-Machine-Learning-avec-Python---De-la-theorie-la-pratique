{
 "cells": [
  {
   "cell_type": "code",
   "execution_count": 1,
   "id": "3d59b7b7",
   "metadata": {},
   "outputs": [],
   "source": [
    "import tensorflow as tf\n",
    "from tensorflow import keras\n",
    "import os\n",
    "import pandas as pd\n",
    "import numpy as np\n",
    "\n",
    "os.environ['TF_CPP_MIN_LOG_LEVEL']='2'\n",
    "\n",
    "cifar10_class_names = {\n",
    "    0:\"Plane\",\n",
    "    1:\"Car\",\n",
    "    2:\"Bird\",\n",
    "    3:\"Cat\",\n",
    "    4:\"Deer\",\n",
    "    5:\"Dog\",\n",
    "    6:\"Frog\",\n",
    "    7:\"Horse\",\n",
    "    8:\"Boat\",\n",
    "    9:\"Truck\",\n",
    "}\n",
    "\n",
    "cifar10 = keras.datasets.cifar10\n",
    "(x_train, y_train), (x_test, y_test) = cifar10.load_data()\n",
    "\n",
    "x_train = x_train.astype(\"float32\")\n",
    "x_test = x_test.astype(\"float32\")\n",
    "\n",
    "x_train= x_train/255\n",
    "x_test = x_test /255\n",
    "\n",
    "y_train = keras.utils.to_categorical(y_train, 10)\n",
    "y_test = keras.utils.to_categorical(y_test, 10)"
   ]
  },
  {
   "cell_type": "code",
   "execution_count": 2,
   "id": "884679cb",
   "metadata": {},
   "outputs": [],
   "source": [
    "model = keras.Sequential()\n",
    "\n",
    "model.add(keras.layers.Flatten(input_shape=(32,32,3)))\n",
    "model.add(keras.layers.Dense(500, activation='relu'))\n",
    "model.add(keras.layers.Dense(250, activation='relu'))\n",
    "model.add(keras.layers.Dense(10, activation=\"softmax\"))"
   ]
  },
  {
   "cell_type": "code",
   "execution_count": 3,
   "id": "003e07a4",
   "metadata": {},
   "outputs": [],
   "source": [
    "model.compile(loss=\"categorical_crossentropy\", optimizer=\"adam\", metrics=[\"accuracy\"] )"
   ]
  },
  {
   "cell_type": "code",
   "execution_count": 4,
   "id": "3f025320",
   "metadata": {},
   "outputs": [],
   "source": [
    "early_stopping = keras.callbacks.EarlyStopping(patience=10, restore_best_weights=True)"
   ]
  },
  {
   "cell_type": "code",
   "execution_count": 7,
   "id": "731395ad",
   "metadata": {},
   "outputs": [
    {
     "name": "stdout",
     "output_type": "stream",
     "text": [
      "ERROR! Session/line number was not unique in database. History logging moved to new session 244\n"
     ]
    }
   ],
   "source": [
    "logdir = os.path.join(os.curdir, \"MyLogs\")\n",
    "def get_logdir():\n",
    "    import time\n",
    "    run_id = time.strftime(\"folder_%Y_%m_%d-%H_%M_%S\")\n",
    "    return os.path.join(logdir, run_id)\n",
    "\n",
    "current_logdir = get_logdir()\n",
    "\n"
   ]
  },
  {
   "cell_type": "code",
   "execution_count": 8,
   "id": "f1b2cb0d",
   "metadata": {},
   "outputs": [],
   "source": [
    "tensorboard_callback = keras.callbacks.TensorBoard(current_logdir)"
   ]
  },
  {
   "cell_type": "code",
   "execution_count": 9,
   "id": "4764433e",
   "metadata": {},
   "outputs": [
    {
     "name": "stdout",
     "output_type": "stream",
     "text": [
      "Train on 50000 samples, validate on 10000 samples\n",
      "Epoch 1/500\n",
      "50000/50000 [==============================] - 13s 269us/sample - loss: 1.8525 - accuracy: 0.3319 - val_loss: 1.7065 - val_accuracy: 0.3971\n",
      "Epoch 2/500\n",
      "50000/50000 [==============================] - 14s 273us/sample - loss: 1.6673 - accuracy: 0.4032 - val_loss: 1.6010 - val_accuracy: 0.4262\n",
      "Epoch 3/500\n",
      "50000/50000 [==============================] - 13s 270us/sample - loss: 1.5859 - accuracy: 0.4341 - val_loss: 1.5765 - val_accuracy: 0.4368\n",
      "Epoch 4/500\n",
      "50000/50000 [==============================] - 14s 289us/sample - loss: 1.5437 - accuracy: 0.4488 - val_loss: 1.5654 - val_accuracy: 0.4407\n",
      "Epoch 5/500\n",
      "50000/50000 [==============================] - 14s 277us/sample - loss: 1.5063 - accuracy: 0.4618 - val_loss: 1.5458 - val_accuracy: 0.4503\n",
      "Epoch 6/500\n",
      "50000/50000 [==============================] - 13s 269us/sample - loss: 1.4699 - accuracy: 0.4736 - val_loss: 1.5116 - val_accuracy: 0.4697\n",
      "Epoch 7/500\n",
      "50000/50000 [==============================] - 14s 271us/sample - loss: 1.4512 - accuracy: 0.4828 - val_loss: 1.4699 - val_accuracy: 0.4778\n",
      "Epoch 8/500\n",
      "50000/50000 [==============================] - 13s 260us/sample - loss: 1.4276 - accuracy: 0.4900 - val_loss: 1.5304 - val_accuracy: 0.4574\n",
      "Epoch 9/500\n",
      "50000/50000 [==============================] - 13s 259us/sample - loss: 1.4092 - accuracy: 0.4982 - val_loss: 1.4479 - val_accuracy: 0.4886\n",
      "Epoch 10/500\n",
      "50000/50000 [==============================] - 13s 259us/sample - loss: 1.3870 - accuracy: 0.5037 - val_loss: 1.4495 - val_accuracy: 0.4829\n",
      "Epoch 11/500\n",
      "50000/50000 [==============================] - 13s 258us/sample - loss: 1.3746 - accuracy: 0.5079 - val_loss: 1.4441 - val_accuracy: 0.4833\n",
      "Epoch 12/500\n",
      "50000/50000 [==============================] - 13s 257us/sample - loss: 1.3569 - accuracy: 0.5149 - val_loss: 1.4686 - val_accuracy: 0.4810\n",
      "Epoch 13/500\n",
      "50000/50000 [==============================] - 13s 257us/sample - loss: 1.3421 - accuracy: 0.5216 - val_loss: 1.4491 - val_accuracy: 0.4936\n",
      "Epoch 14/500\n",
      "50000/50000 [==============================] - 13s 262us/sample - loss: 1.3298 - accuracy: 0.5229 - val_loss: 1.4689 - val_accuracy: 0.4861\n",
      "Epoch 15/500\n",
      "50000/50000 [==============================] - 13s 260us/sample - loss: 1.3189 - accuracy: 0.5272 - val_loss: 1.4512 - val_accuracy: 0.4870\n",
      "Epoch 16/500\n",
      "50000/50000 [==============================] - 13s 259us/sample - loss: 1.3072 - accuracy: 0.5315 - val_loss: 1.4306 - val_accuracy: 0.4969\n",
      "Epoch 17/500\n",
      "50000/50000 [==============================] - 13s 258us/sample - loss: 1.3022 - accuracy: 0.5327 - val_loss: 1.4450 - val_accuracy: 0.4940\n",
      "Epoch 18/500\n",
      "50000/50000 [==============================] - 13s 258us/sample - loss: 1.2851 - accuracy: 0.5391 - val_loss: 1.4925 - val_accuracy: 0.4876\n",
      "Epoch 19/500\n",
      "50000/50000 [==============================] - 13s 266us/sample - loss: 1.2802 - accuracy: 0.5429 - val_loss: 1.4824 - val_accuracy: 0.4857\n",
      "Epoch 20/500\n",
      "50000/50000 [==============================] - 13s 258us/sample - loss: 1.2737 - accuracy: 0.5437 - val_loss: 1.4537 - val_accuracy: 0.4884\n",
      "Epoch 21/500\n",
      "50000/50000 [==============================] - 13s 258us/sample - loss: 1.2646 - accuracy: 0.5456 - val_loss: 1.4454 - val_accuracy: 0.4904\n",
      "Epoch 22/500\n",
      "50000/50000 [==============================] - 13s 257us/sample - loss: 1.2558 - accuracy: 0.5524 - val_loss: 1.4601 - val_accuracy: 0.4925\n",
      "Epoch 23/500\n",
      "50000/50000 [==============================] - 13s 265us/sample - loss: 1.2464 - accuracy: 0.5516 - val_loss: 1.4404 - val_accuracy: 0.5034\n",
      "Epoch 24/500\n",
      "50000/50000 [==============================] - 13s 262us/sample - loss: 1.2407 - accuracy: 0.5547 - val_loss: 1.4638 - val_accuracy: 0.4869\n",
      "Epoch 25/500\n",
      "50000/50000 [==============================] - 13s 261us/sample - loss: 1.2340 - accuracy: 0.5558 - val_loss: 1.4503 - val_accuracy: 0.4965\n",
      "Epoch 26/500\n",
      "50000/50000 [==============================] - 14s 271us/sample - loss: 1.2307 - accuracy: 0.5578 - val_loss: 1.4593 - val_accuracy: 0.4956\n"
     ]
    }
   ],
   "source": [
    "result = model.fit(x_train, y_train,\\\n",
    "                   batch_size=32,\\\n",
    "                   epochs=500,\\\n",
    "                   validation_data=[x_test, y_test],\\\n",
    "                   shuffle=True,\\\n",
    "                   callbacks=[early_stopping, tensorboard_callback])\n"
   ]
  },
  {
   "cell_type": "code",
   "execution_count": 12,
   "id": "89faad45",
   "metadata": {},
   "outputs": [],
   "source": [
    "model.save(\"../Models/cifar10_model.h5\")\n"
   ]
  },
  {
   "cell_type": "code",
   "execution_count": null,
   "id": "8e32a4c8",
   "metadata": {},
   "outputs": [],
   "source": []
  }
 ],
 "metadata": {
  "kernelspec": {
   "display_name": "Python 3",
   "language": "python",
   "name": "python3"
  },
  "language_info": {
   "codemirror_mode": {
    "name": "ipython",
    "version": 3
   },
   "file_extension": ".py",
   "mimetype": "text/x-python",
   "name": "python",
   "nbconvert_exporter": "python",
   "pygments_lexer": "ipython3",
   "version": "3.6.13"
  }
 },
 "nbformat": 4,
 "nbformat_minor": 5
}

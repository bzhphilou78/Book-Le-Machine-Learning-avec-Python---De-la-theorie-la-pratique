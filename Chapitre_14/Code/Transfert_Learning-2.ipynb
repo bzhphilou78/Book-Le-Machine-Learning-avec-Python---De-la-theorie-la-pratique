{
 "cells": [
  {
   "cell_type": "code",
   "execution_count": 11,
   "id": "a259d323",
   "metadata": {},
   "outputs": [],
   "source": [
    "import tensorflow as tf\n",
    "from tensorflow import keras\n",
    "import os\n",
    "import pandas as pd\n",
    "import numpy as np\n",
    "import matplotlib.pyplot as plt\n",
    "from tensorflow.keras.preprocessing import image\n",
    "from tensorflow.keras.applications import vgg16\n",
    "\n",
    "from pathlib import Path\n",
    "import joblib\n",
    "\n",
    "\n",
    "os.environ['TF_CPP_MIN_LOG_LEVEL']='2'\n",
    "\n",
    " \n",
    "male_path = Path(\"../Data/Dogs/test/male\")\n",
    "female_path = Path(\"../Data/Dogs/test/female\")\n",
    "\n",
    "\n",
    "test_images = []\n",
    "test_target = []\n",
    "\n",
    "\n",
    "height = 128\n",
    "width = 128\n",
    "\n",
    "\n",
    "\n",
    "for current_file in male_path.glob(\"*.jpg\"):\n",
    "    current_img = image.load_img(current_file, target_size=(height,width))\n",
    "    current_img = image.img_to_array(current_img)  \n",
    "    test_images.append(current_img)\n",
    "    test_target.append(0)\n",
    "\n",
    "for current_file in female_path.glob(\"*.jpg\"):\n",
    "    current_img = image.load_img(current_file, target_size=(height,width))\n",
    "    current_img = image.img_to_array(current_img)  \n",
    "    test_images.append(current_img)\n",
    "    test_target.append(1)\n",
    "\n",
    "\n",
    "x_test = np.array(test_images)\n",
    "y_test = np.array(test_target)\n",
    "                  \n",
    "                 "
   ]
  },
  {
   "cell_type": "code",
   "execution_count": 12,
   "id": "8e54efa2",
   "metadata": {},
   "outputs": [],
   "source": [
    "x_test = vgg16.preprocess_input(x_test)  "
   ]
  },
  {
   "cell_type": "code",
   "execution_count": 18,
   "id": "1d6de9bc",
   "metadata": {},
   "outputs": [],
   "source": [
    "model = keras.models.load_model(\"../Models/vgg_model.h5\")"
   ]
  },
  {
   "cell_type": "code",
   "execution_count": 19,
   "id": "0475877b",
   "metadata": {},
   "outputs": [],
   "source": [
    "pretrained_model= vgg16.VGG16(weights=\"imagenet\", include_top=False, input_shape=(height,width,3)) "
   ]
  },
  {
   "cell_type": "code",
   "execution_count": 20,
   "id": "421ccbd6",
   "metadata": {},
   "outputs": [],
   "source": [
    "features_extracted =  pretrained_model.predict(x_test)"
   ]
  },
  {
   "cell_type": "code",
   "execution_count": 21,
   "id": "e9092896",
   "metadata": {},
   "outputs": [],
   "source": [
    "results = model.predict_classes(features_extracted)"
   ]
  },
  {
   "cell_type": "code",
   "execution_count": 22,
   "id": "8c17a305",
   "metadata": {},
   "outputs": [
    {
     "name": "stdout",
     "output_type": "stream",
     "text": [
      "    Prédictions  Observation\n",
      "0             0            0\n",
      "1             0            0\n",
      "2             0            0\n",
      "3             1            0\n",
      "4             1            0\n",
      "5             1            0\n",
      "6             0            0\n",
      "7             1            0\n",
      "8             0            1\n",
      "9             0            1\n",
      "10            0            1\n",
      "11            0            1\n",
      "12            0            1\n",
      "13            1            1\n",
      "14            0            1\n",
      "15            0            1\n"
     ]
    }
   ],
   "source": [
    "df = pd.DataFrame({\"Prédictions\":results[:,0],\"Observation\":y_test})\n",
    "print(df) "
   ]
  },
  {
   "cell_type": "code",
   "execution_count": null,
   "id": "e21f2ba2",
   "metadata": {},
   "outputs": [],
   "source": []
  }
 ],
 "metadata": {
  "kernelspec": {
   "display_name": "Python 3",
   "language": "python",
   "name": "python3"
  },
  "language_info": {
   "codemirror_mode": {
    "name": "ipython",
    "version": 3
   },
   "file_extension": ".py",
   "mimetype": "text/x-python",
   "name": "python",
   "nbconvert_exporter": "python",
   "pygments_lexer": "ipython3",
   "version": "3.6.13"
  }
 },
 "nbformat": 4,
 "nbformat_minor": 5
}

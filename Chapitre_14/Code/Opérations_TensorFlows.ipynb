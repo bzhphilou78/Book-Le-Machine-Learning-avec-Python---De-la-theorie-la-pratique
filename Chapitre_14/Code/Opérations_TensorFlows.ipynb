{
 "cells": [
  {
   "cell_type": "code",
   "execution_count": 1,
   "id": "b3f96c78",
   "metadata": {},
   "outputs": [],
   "source": [
    "import tensorflow as tf \n",
    "import os\n",
    "import numpy as np \n",
    "\n",
    "os.environ['TF_CPP_MIN_LOG_LEVEL']='2'"
   ]
  },
  {
   "cell_type": "code",
   "execution_count": 2,
   "id": "7244dc47",
   "metadata": {},
   "outputs": [
    {
     "name": "stdout",
     "output_type": "stream",
     "text": [
      "B = [[1. 2. 3.]\n",
      " [4. 5. 6.]\n",
      " [7. 8. 9.]]\n"
     ]
    }
   ],
   "source": [
    "B = tf.constant([[1.,2.,3],[4,5,6],[7,8,9]])\n",
    "\n",
    "print(f\"B = {B}\")"
   ]
  },
  {
   "cell_type": "code",
   "execution_count": 3,
   "id": "da7ae62a",
   "metadata": {},
   "outputs": [
    {
     "name": "stdout",
     "output_type": "stream",
     "text": [
      "B.shape = (3, 3)\n",
      "B.dtype = <dtype: 'float32'>\n"
     ]
    }
   ],
   "source": [
    "print(f\"B.shape = {B.shape}\")\n",
    "print(f\"B.dtype = {B.dtype}\")"
   ]
  },
  {
   "cell_type": "code",
   "execution_count": 5,
   "id": "baa03962",
   "metadata": {},
   "outputs": [
    {
     "name": "stdout",
     "output_type": "stream",
     "text": [
      "B[:,:] = [[1. 2. 3.]\n",
      " [4. 5. 6.]\n",
      " [7. 8. 9.]]\n"
     ]
    }
   ],
   "source": [
    "print(f\"B[:,:] = {B[:,:]}\") \n",
    "\n"
   ]
  },
  {
   "cell_type": "code",
   "execution_count": 17,
   "id": "e0adeb19",
   "metadata": {},
   "outputs": [
    {
     "name": "stdout",
     "output_type": "stream",
     "text": [
      "[[4. 5.]\n",
      " [7. 8.]]\n"
     ]
    }
   ],
   "source": [
    "print(f\"{B[1:,:2]}\")"
   ]
  },
  {
   "cell_type": "code",
   "execution_count": 18,
   "id": "b35a4a42",
   "metadata": {},
   "outputs": [
    {
     "name": "stdout",
     "output_type": "stream",
     "text": [
      "B+100 =\n",
      " [[101. 102. 103.]\n",
      " [104. 105. 106.]\n",
      " [107. 108. 109.]]\n"
     ]
    }
   ],
   "source": [
    "print(f\"B+100 =\\n {B+100}\")"
   ]
  },
  {
   "cell_type": "code",
   "execution_count": 19,
   "id": "32497c45",
   "metadata": {},
   "outputs": [
    {
     "name": "stdout",
     "output_type": "stream",
     "text": [
      "B+100 =\n",
      " [[101. 102. 103.]\n",
      " [104. 105. 106.]\n",
      " [107. 108. 109.]]\n"
     ]
    }
   ],
   "source": [
    "print(f\"B+100 =\\n {tf.add(B,100)}\")  \n"
   ]
  },
  {
   "cell_type": "code",
   "execution_count": 50,
   "id": "76397ec7",
   "metadata": {},
   "outputs": [
    {
     "name": "stdout",
     "output_type": "stream",
     "text": [
      "np_array_1 : [ 1.  2.  3.  4.  5.  6.  7.  8.  9. 10.]\n",
      "tf_tensor :  tf.Tensor([ 1.  2.  3.  4.  5.  6.  7.  8.  9. 10.], shape=(10,), dtype=float64)\n"
     ]
    }
   ],
   "source": [
    "np_array_1 = np.array([1.,2.,3.,4.,5.,6.,7.,8.,9.,10.])\n",
    "tf_tensor = tf.constant(np_array_1)\n",
    "print(\"np_array_1 :\", np_array_1)\n",
    "print(\"tf_tensor : \",tf_tensor) "
   ]
  },
  {
   "cell_type": "code",
   "execution_count": 23,
   "id": "6372bef1",
   "metadata": {},
   "outputs": [
    {
     "name": "stdout",
     "output_type": "stream",
     "text": [
      "np_array_2 :  [ 1.  2.  3.  4.  5.  6.  7.  8.  9. 10.]\n"
     ]
    }
   ],
   "source": [
    "np_array_2 = tf_tensor.numpy()\n",
    "print(\"np_array_2 : \", np_array_2) "
   ]
  },
  {
   "cell_type": "code",
   "execution_count": null,
   "id": "593ff32c",
   "metadata": {},
   "outputs": [],
   "source": []
  },
  {
   "cell_type": "code",
   "execution_count": 33,
   "id": "e7ff2cba",
   "metadata": {},
   "outputs": [],
   "source": [
    "a=tf.constant(10., dtype=\"float64\")\n",
    "b = tf.constant(10.) \n",
    "#print(f\"a+b = {a+b}\") #cette instruction va afficher une erreur à l'exécution"
   ]
  },
  {
   "cell_type": "code",
   "execution_count": 34,
   "id": "9f51aef4",
   "metadata": {},
   "outputs": [
    {
     "name": "stdout",
     "output_type": "stream",
     "text": [
      "a+b = 20.0\n"
     ]
    }
   ],
   "source": [
    "a=tf.constant(10., dtype=\"float64\")\n",
    "b = tf.constant(10.) \n",
    "\n",
    "a=tf.cast(a, tf.float32 )\n",
    "print(f\"a+b = {a+b}\")\n"
   ]
  },
  {
   "cell_type": "code",
   "execution_count": 36,
   "id": "97d2d18b",
   "metadata": {},
   "outputs": [
    {
     "name": "stdout",
     "output_type": "stream",
     "text": [
      "tensor_1 = \n",
      "<tf.Variable 'Variable:0' shape=(3, 3) dtype=int32, numpy=\n",
      "array([[1, 2, 3],\n",
      "       [4, 5, 6],\n",
      "       [7, 8, 9]])>\n",
      "tensor_1 = \n",
      "<tf.Variable 'Variable:0' shape=(3, 3) dtype=int32, numpy=\n",
      "array([[100, 200, 300],\n",
      "       [400, 500, 600],\n",
      "       [700, 800, 900]])>\n"
     ]
    }
   ],
   "source": [
    "tensor_1 = tf.Variable([[1,2,3],[4,5,6],[7,8,9]])\n",
    " \n",
    "print(f\"tensor_1 = \\n{tensor_1}\")\n",
    "\n",
    "tensor_1.assign(tensor_1 * 100)\n",
    "print(f\"tensor_1 = \\n{tensor_1}\")"
   ]
  },
  {
   "cell_type": "code",
   "execution_count": 42,
   "id": "1440d65c",
   "metadata": {},
   "outputs": [
    {
     "name": "stdout",
     "output_type": "stream",
     "text": [
      "tensor_2 = \n",
      "[[0. 0. 0.]\n",
      " [0. 0. 0.]\n",
      " [0. 0. 0.]]\n"
     ]
    }
   ],
   "source": [
    "tensor_2 = tf.zeros((3,3))\n",
    "print(f\"tensor_2 = \\n{tensor_2}\")"
   ]
  },
  {
   "cell_type": "code",
   "execution_count": 43,
   "id": "3d7ffb90",
   "metadata": {},
   "outputs": [
    {
     "name": "stdout",
     "output_type": "stream",
     "text": [
      "tensor_3 = \n",
      "[[58.47219   95.02471   45.46765    2.750136 ]\n",
      " [97.74797    8.634356  21.857983  53.07471  ]\n",
      " [ 3.2755132 38.687164  16.020048  63.995255 ]\n",
      " [47.905804  89.088806  12.25897   50.965908 ]]\n"
     ]
    }
   ],
   "source": [
    "tensor_3 = tf.random.uniform((4,4), minval=1, maxval=100, seed=1)\n",
    "print(f\"tensor_3 = \\n{tensor_3}\")"
   ]
  },
  {
   "cell_type": "code",
   "execution_count": 44,
   "id": "ade530f3",
   "metadata": {},
   "outputs": [
    {
     "name": "stdout",
     "output_type": "stream",
     "text": [
      "tensor_4 = \n",
      "[[5 5 5]\n",
      " [5 5 5]\n",
      " [5 5 5]]\n"
     ]
    }
   ],
   "source": [
    "tensor_4 = tf.fill((3,3), value = 5) \n",
    "print(f\"tensor_4 = \\n{tensor_4}\")"
   ]
  },
  {
   "cell_type": "code",
   "execution_count": 47,
   "id": "5406b90f",
   "metadata": {},
   "outputs": [
    {
     "name": "stdout",
     "output_type": "stream",
     "text": [
      "tensor_5 = \n",
      "[[1 1 1]\n",
      " [1 1 1]]\n",
      "tensor_6 = \n",
      "[[2 2]\n",
      " [2 2]\n",
      " [2 2]]\n",
      "tensor_7 = \n",
      "[[6 6]\n",
      " [6 6]]\n"
     ]
    }
   ],
   "source": [
    "tensor_5 = tf.fill((2,3), 1) \n",
    "tensor_6 = tf.fill((3,2), 2) \n",
    "print(f\"tensor_5 = \\n{tensor_5}\")\n",
    "print(f\"tensor_6 = \\n{tensor_6}\")\n",
    "\n",
    "tensor_7 = tf.matmul(tensor_5, tensor_6)\n",
    "print(f\"tensor_7 = \\n{tensor_7}\")"
   ]
  },
  {
   "cell_type": "code",
   "execution_count": null,
   "id": "b3d8aa70",
   "metadata": {},
   "outputs": [],
   "source": []
  }
 ],
 "metadata": {
  "kernelspec": {
   "display_name": "Python 3",
   "language": "python",
   "name": "python3"
  },
  "language_info": {
   "codemirror_mode": {
    "name": "ipython",
    "version": 3
   },
   "file_extension": ".py",
   "mimetype": "text/x-python",
   "name": "python",
   "nbconvert_exporter": "python",
   "pygments_lexer": "ipython3",
   "version": "3.6.13"
  }
 },
 "nbformat": 4,
 "nbformat_minor": 5
}

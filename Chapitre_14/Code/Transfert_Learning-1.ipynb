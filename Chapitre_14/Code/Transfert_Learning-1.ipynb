{
 "cells": [
  {
   "cell_type": "code",
   "execution_count": 12,
   "id": "4cb5b2ba",
   "metadata": {},
   "outputs": [],
   "source": [
    "import tensorflow as tf\n",
    "from tensorflow import keras\n",
    "import os\n",
    "import pandas as pd\n",
    "import numpy as np\n",
    "\n",
    "from tensorflow.keras.preprocessing import image\n",
    "from tensorflow.keras.applications import vgg16\n",
    "\n",
    "from pathlib import Path\n",
    "import joblib\n",
    "\n",
    "\n",
    "os.environ['TF_CPP_MIN_LOG_LEVEL']='2'\n",
    "\n",
    "\n",
    "male_path = Path(\"../Data/Dogs/train/male\")\n",
    "female_path = Path(\"../Data/Dogs/train/female\")"
   ]
  },
  {
   "cell_type": "code",
   "execution_count": 13,
   "id": "b6e7a00c",
   "metadata": {},
   "outputs": [],
   "source": [
    "train_images = []\n",
    "train_target = []\n",
    "\n",
    "height = 128\n",
    "width = 128\n",
    "\n",
    "for current_file in male_path.glob(\"*.jpg\"):\n",
    "    current_img = image.load_img(current_file, target_size=(height,width))\n",
    "    current_img = image.img_to_array(current_img)  \n",
    "    train_images.append(current_img)\n",
    "    train_target.append(0)"
   ]
  },
  {
   "cell_type": "code",
   "execution_count": 14,
   "id": "a30e002a",
   "metadata": {},
   "outputs": [],
   "source": [
    "for current_file in female_path.glob(\"*.jpg\"):\n",
    "    current_img = image.load_img(current_file, target_size=(height,width))\n",
    "    current_img = image.img_to_array(current_img)  \n",
    "    train_images.append(current_img)\n",
    "    train_target.append(1)"
   ]
  },
  {
   "cell_type": "code",
   "execution_count": 15,
   "id": "83003ea2",
   "metadata": {},
   "outputs": [],
   "source": [
    "x_train = np.array(train_images)\n",
    "y_train = np.array(train_target)\n",
    "\n",
    "\n",
    "x_train = vgg16.preprocess_input(x_train) "
   ]
  },
  {
   "cell_type": "code",
   "execution_count": 16,
   "id": "695ecdf8",
   "metadata": {},
   "outputs": [],
   "source": [
    "pretrained_model= vgg16.VGG16(weights=\"imagenet\", include_top=False, input_shape=(height,width,3)) "
   ]
  },
  {
   "cell_type": "code",
   "execution_count": 17,
   "id": "4b46ebca",
   "metadata": {},
   "outputs": [],
   "source": [
    "features =  pretrained_model.predict(x_train) "
   ]
  },
  {
   "cell_type": "code",
   "execution_count": 18,
   "id": "8231ec66",
   "metadata": {},
   "outputs": [],
   "source": [
    "model = keras.Sequential()\n",
    "\n",
    "model.add(keras.layers.Flatten(input_shape=features.shape[1:]))\n",
    " \n",
    "model.add(keras.layers.Dense(256, activation='relu'))\n",
    " \n",
    "model.add(keras.layers.Dense(1, activation='sigmoid'))"
   ]
  },
  {
   "cell_type": "code",
   "execution_count": 21,
   "id": "016a3713",
   "metadata": {},
   "outputs": [
    {
     "name": "stdout",
     "output_type": "stream",
     "text": [
      "Train on 41 samples, validate on 41 samples\n",
      "Epoch 1/200\n",
      "41/41 [==============================] - 0s 10ms/sample - loss: 7.0794e-37 - accuracy: 1.0000 - val_loss: 7.0794e-37 - val_accuracy: 1.0000\n",
      "Epoch 2/200\n",
      "41/41 [==============================] - 0s 807us/sample - loss: 7.0794e-37 - accuracy: 1.0000 - val_loss: 7.0794e-37 - val_accuracy: 1.0000\n",
      "Epoch 3/200\n",
      "41/41 [==============================] - 0s 854us/sample - loss: 7.0794e-37 - accuracy: 1.0000 - val_loss: 7.0794e-37 - val_accuracy: 1.0000\n",
      "Epoch 4/200\n",
      "41/41 [==============================] - 0s 999us/sample - loss: 7.0794e-37 - accuracy: 1.0000 - val_loss: 7.0794e-37 - val_accuracy: 1.0000\n",
      "Epoch 5/200\n",
      "41/41 [==============================] - 0s 901us/sample - loss: 7.0794e-37 - accuracy: 1.0000 - val_loss: 7.0794e-37 - val_accuracy: 1.0000\n",
      "Epoch 6/200\n",
      "41/41 [==============================] - 0s 903us/sample - loss: 7.0794e-37 - accuracy: 1.0000 - val_loss: 7.0794e-37 - val_accuracy: 1.0000\n",
      "Epoch 7/200\n",
      "41/41 [==============================] - 0s 852us/sample - loss: 7.0794e-37 - accuracy: 1.0000 - val_loss: 7.0794e-37 - val_accuracy: 1.0000\n",
      "Epoch 8/200\n",
      "41/41 [==============================] - 0s 901us/sample - loss: 7.0794e-37 - accuracy: 1.0000 - val_loss: 7.0794e-37 - val_accuracy: 1.0000\n",
      "Epoch 9/200\n",
      "41/41 [==============================] - 0s 853us/sample - loss: 7.0794e-37 - accuracy: 1.0000 - val_loss: 7.0794e-37 - val_accuracy: 1.0000\n",
      "Epoch 10/200\n",
      "41/41 [==============================] - ETA: 0s - loss: 0.0000e+00 - accuracy: 1.00 - 0s 903us/sample - loss: 7.0794e-37 - accuracy: 1.0000 - val_loss: 7.0794e-37 - val_accuracy: 1.0000\n",
      "Epoch 11/200\n",
      "41/41 [==============================] - 0s 926us/sample - loss: 7.0794e-37 - accuracy: 1.0000 - val_loss: 7.0794e-37 - val_accuracy: 1.0000\n"
     ]
    }
   ],
   "source": [
    "model.compile(loss=\"binary_crossentropy\", optimizer=\"adam\", metrics=[\"accuracy\"])\n",
    " \n",
    "early_stopping = keras.callbacks.EarlyStopping(patience=10, restore_best_weights=True)\n",
    "result = model.fit(features, y_train,\\\n",
    "                   epochs=200,\\\n",
    "                   validation_data=[features, y_train],\\\n",
    "                   callbacks=[early_stopping])"
   ]
  },
  {
   "cell_type": "code",
   "execution_count": 22,
   "id": "edcef1d8",
   "metadata": {},
   "outputs": [],
   "source": [
    " \n",
    "model.save(\"../Models/vgg_model.h5\")\n",
    " "
   ]
  },
  {
   "cell_type": "code",
   "execution_count": null,
   "id": "ac8d4256",
   "metadata": {},
   "outputs": [],
   "source": []
  }
 ],
 "metadata": {
  "kernelspec": {
   "display_name": "Python 3",
   "language": "python",
   "name": "python3"
  },
  "language_info": {
   "codemirror_mode": {
    "name": "ipython",
    "version": 3
   },
   "file_extension": ".py",
   "mimetype": "text/x-python",
   "name": "python",
   "nbconvert_exporter": "python",
   "pygments_lexer": "ipython3",
   "version": "3.6.13"
  }
 },
 "nbformat": 4,
 "nbformat_minor": 5
}

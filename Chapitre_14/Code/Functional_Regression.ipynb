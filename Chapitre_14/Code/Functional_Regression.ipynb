{
 "cells": [
  {
   "cell_type": "code",
   "execution_count": 1,
   "id": "1978345f",
   "metadata": {},
   "outputs": [],
   "source": [
    "import tensorflow as tf\n",
    "from tensorflow import keras\n",
    "import os\n",
    "import pandas as pd\n",
    "import numpy as np\n",
    "import matplotlib.pyplot as plt\n",
    "\n",
    "from sklearn.datasets import fetch_california_housing\n",
    "from sklearn.model_selection import train_test_split\n",
    "from sklearn.preprocessing import StandardScaler\n",
    "\n",
    "\n",
    "os.environ['TF_CPP_MIN_LOG_LEVEL']='2'\n",
    "\n",
    "\n",
    "housing = fetch_california_housing()\n",
    "all_x_train, x_test, all_y_train, y_test = train_test_split(housing.data, housing.target)\n",
    " \n",
    " \n",
    "x_train, x_validation, y_train, y_validation = train_test_split(all_x_train, all_y_train)\n",
    "scaler = StandardScaler()\n",
    "x_train_scaled = scaler.fit_transform(x_train)\n",
    "x_validation_scaled = scaler.transform(x_validation)\n",
    "x_test_scaled = scaler.transform(x_test)"
   ]
  },
  {
   "cell_type": "code",
   "execution_count": 12,
   "id": "c597dba7",
   "metadata": {},
   "outputs": [],
   "source": [
    "input_1 = keras.layers.Input(shape=x_train_scaled.shape[1:])\n",
    "input_2 = keras.layers.Input(shape=[5])\n",
    "input_3 = keras.layers.Input(shape=[3])"
   ]
  },
  {
   "cell_type": "code",
   "execution_count": 13,
   "id": "46e5c92d",
   "metadata": {},
   "outputs": [],
   "source": [
    "hidden1 = keras.layers.Dense(60, activation=\"relu\")(input_1)\n",
    "hidden2 = keras.layers.Dense(30, activation=\"relu\")(hidden1)\n",
    "concat_1 = keras.layers.concatenate([input_2, hidden2])"
   ]
  },
  {
   "cell_type": "code",
   "execution_count": 14,
   "id": "4a21c54b",
   "metadata": {},
   "outputs": [],
   "source": [
    "hidden3 = keras.layers.Dense(10, activation=\"relu\")(concat_1)\n",
    "concat_2 = keras.layers.concatenate([input_3, hidden3])"
   ]
  },
  {
   "cell_type": "code",
   "execution_count": 15,
   "id": "397458a2",
   "metadata": {},
   "outputs": [],
   "source": [
    "output_1 = keras.layers.Dense(1)(concat_2)\n",
    "output_2 = keras.layers.Dense(1)(hidden3)"
   ]
  },
  {
   "cell_type": "code",
   "execution_count": 16,
   "id": "c3a08e15",
   "metadata": {},
   "outputs": [],
   "source": [
    "model = keras.models.Model(inputs=[input_1, input_2, input_3], outputs=[output_1, output_2])"
   ]
  },
  {
   "cell_type": "code",
   "execution_count": 17,
   "id": "568dc635",
   "metadata": {},
   "outputs": [],
   "source": [
    "model.compile(loss=\"mse\", optimizer=\"rmsprop\", metrics=[\"mae\"])"
   ]
  },
  {
   "cell_type": "code",
   "execution_count": 18,
   "id": "0cfdabf8",
   "metadata": {},
   "outputs": [],
   "source": [
    "x_train_2, x_train_3 = x_train_scaled[:, :5], x_train_scaled[:, 5:]\n",
    "x_validation_2, x_validation_3 = x_validation_scaled[:, :5], x_validation_scaled[:, 5:]\n",
    "x_test_2, x_test_3 = x_test_scaled[:, :5], x_test_scaled[:, 5:]"
   ]
  },
  {
   "cell_type": "code",
   "execution_count": 19,
   "id": "838aac08",
   "metadata": {},
   "outputs": [
    {
     "name": "stdout",
     "output_type": "stream",
     "text": [
      "Train on 11610 samples, validate on 3870 samples\n",
      "Epoch 1/100\n",
      "11610/11610 [==============================] - 1s 112us/sample - loss: 1.7308 - dense_8_loss: 0.9271 - dense_9_loss: 0.8033 - dense_8_mae: 0.6394 - dense_9_mae: 0.5962 - val_loss: 0.9712 - val_dense_8_loss: 0.4692 - val_dense_9_loss: 0.5020 - val_dense_8_mae: 0.4840 - val_dense_9_mae: 0.4797\n",
      "Epoch 2/100\n",
      "11610/11610 [==============================] - 0s 42us/sample - loss: 0.8167 - dense_8_loss: 0.4107 - dense_9_loss: 0.4059 - dense_8_mae: 0.4434 - dense_9_mae: 0.4440 - val_loss: 0.8194 - val_dense_8_loss: 0.4045 - val_dense_9_loss: 0.4149 - val_dense_8_mae: 0.4256 - val_dense_9_mae: 0.4286\n",
      "Epoch 3/100\n",
      "11610/11610 [==============================] - 0s 43us/sample - loss: 0.7421 - dense_8_loss: 0.3871 - dense_9_loss: 0.3551 - dense_8_mae: 0.4236 - dense_9_mae: 0.4219 - val_loss: 0.7453 - val_dense_8_loss: 0.3767 - val_dense_9_loss: 0.3685 - val_dense_8_mae: 0.4070 - val_dense_9_mae: 0.4076\n",
      "Epoch 4/100\n",
      "11610/11610 [==============================] - 0s 42us/sample - loss: 0.6984 - dense_8_loss: 0.3588 - dense_9_loss: 0.3394 - dense_8_mae: 0.4115 - dense_9_mae: 0.4105 - val_loss: 0.7596 - val_dense_8_loss: 0.3966 - val_dense_9_loss: 0.3629 - val_dense_8_mae: 0.4076 - val_dense_9_mae: 0.4069\n",
      "Epoch 5/100\n",
      "11610/11610 [==============================] - 1s 45us/sample - loss: 0.7280 - dense_8_loss: 0.4067 - dense_9_loss: 0.3212 - dense_8_mae: 0.4035 - dense_9_mae: 0.4003 - val_loss: 0.7263 - val_dense_8_loss: 0.3958 - val_dense_9_loss: 0.3304 - val_dense_8_mae: 0.4014 - val_dense_9_mae: 0.4044\n",
      "Epoch 6/100\n",
      "11610/11610 [==============================] - 0s 42us/sample - loss: 0.6651 - dense_8_loss: 0.3570 - dense_9_loss: 0.3079 - dense_8_mae: 0.3940 - dense_9_mae: 0.3915 - val_loss: 0.7479 - val_dense_8_loss: 0.3885 - val_dense_9_loss: 0.3593 - val_dense_8_mae: 0.4014 - val_dense_9_mae: 0.3971\n",
      "Epoch 7/100\n",
      "11610/11610 [==============================] - 1s 45us/sample - loss: 0.6586 - dense_8_loss: 0.3533 - dense_9_loss: 0.3056 - dense_8_mae: 0.3895 - dense_9_mae: 0.3868 - val_loss: 0.7055 - val_dense_8_loss: 0.3735 - val_dense_9_loss: 0.3319 - val_dense_8_mae: 0.4246 - val_dense_9_mae: 0.4149\n",
      "Epoch 8/100\n",
      "11610/11610 [==============================] - 1s 44us/sample - loss: 0.6331 - dense_8_loss: 0.3336 - dense_9_loss: 0.2994 - dense_8_mae: 0.3854 - dense_9_mae: 0.3825 - val_loss: 0.6912 - val_dense_8_loss: 0.3437 - val_dense_9_loss: 0.3475 - val_dense_8_mae: 0.3923 - val_dense_9_mae: 0.3894\n",
      "Epoch 9/100\n",
      "11610/11610 [==============================] - 1s 47us/sample - loss: 0.6049 - dense_8_loss: 0.3127 - dense_9_loss: 0.2922 - dense_8_mae: 0.3818 - dense_9_mae: 0.3784 - val_loss: 0.6361 - val_dense_8_loss: 0.3182 - val_dense_9_loss: 0.3179 - val_dense_8_mae: 0.3790 - val_dense_9_mae: 0.3777\n",
      "Epoch 10/100\n",
      "11610/11610 [==============================] - 1s 46us/sample - loss: 0.5991 - dense_8_loss: 0.3091 - dense_9_loss: 0.2898 - dense_8_mae: 0.3777 - dense_9_mae: 0.3756 - val_loss: 0.6190 - val_dense_8_loss: 0.3123 - val_dense_9_loss: 0.3067 - val_dense_8_mae: 0.3911 - val_dense_9_mae: 0.3887\n",
      "Epoch 11/100\n",
      "11610/11610 [==============================] - ETA: 0s - loss: 0.5850 - dense_8_loss: 0.3025 - dense_9_loss: 0.2825 - dense_8_mae: 0.3733 - dense_9_mae: 0.370 - 1s 45us/sample - loss: 0.5863 - dense_8_loss: 0.3019 - dense_9_loss: 0.2843 - dense_8_mae: 0.3740 - dense_9_mae: 0.3716 - val_loss: 0.6240 - val_dense_8_loss: 0.3143 - val_dense_9_loss: 0.3096 - val_dense_8_mae: 0.3823 - val_dense_9_mae: 0.3816\n",
      "Epoch 12/100\n",
      "11610/11610 [==============================] - 0s 42us/sample - loss: 0.5745 - dense_8_loss: 0.2923 - dense_9_loss: 0.2823 - dense_8_mae: 0.3716 - dense_9_mae: 0.3702 - val_loss: 0.6206 - val_dense_8_loss: 0.3176 - val_dense_9_loss: 0.3030 - val_dense_8_mae: 0.3848 - val_dense_9_mae: 0.3841\n",
      "Epoch 13/100\n",
      "11610/11610 [==============================] - 0s 41us/sample - loss: 0.5687 - dense_8_loss: 0.2875 - dense_9_loss: 0.2812 - dense_8_mae: 0.3702 - dense_9_mae: 0.3683 - val_loss: 0.6259 - val_dense_8_loss: 0.3219 - val_dense_9_loss: 0.3040 - val_dense_8_mae: 0.3804 - val_dense_9_mae: 0.3785\n",
      "Epoch 14/100\n",
      "11610/11610 [==============================] - 0s 42us/sample - loss: 0.5693 - dense_8_loss: 0.2897 - dense_9_loss: 0.2795 - dense_8_mae: 0.3676 - dense_9_mae: 0.3654 - val_loss: 0.6561 - val_dense_8_loss: 0.3355 - val_dense_9_loss: 0.3206 - val_dense_8_mae: 0.4047 - val_dense_9_mae: 0.3996\n",
      "Epoch 15/100\n",
      "11610/11610 [==============================] - 0s 41us/sample - loss: 0.5570 - dense_8_loss: 0.2798 - dense_9_loss: 0.2772 - dense_8_mae: 0.3675 - dense_9_mae: 0.3651 - val_loss: 0.6248 - val_dense_8_loss: 0.3130 - val_dense_9_loss: 0.3118 - val_dense_8_mae: 0.3728 - val_dense_9_mae: 0.3720\n",
      "Epoch 16/100\n",
      "11610/11610 [==============================] - 0s 42us/sample - loss: 0.5606 - dense_8_loss: 0.2854 - dense_9_loss: 0.2751 - dense_8_mae: 0.3653 - dense_9_mae: 0.3632 - val_loss: 0.6106 - val_dense_8_loss: 0.3094 - val_dense_9_loss: 0.3013 - val_dense_8_mae: 0.3790 - val_dense_9_mae: 0.3757\n",
      "Epoch 17/100\n",
      "11610/11610 [==============================] - 1s 43us/sample - loss: 0.5569 - dense_8_loss: 0.2809 - dense_9_loss: 0.2758 - dense_8_mae: 0.3644 - dense_9_mae: 0.3628 - val_loss: 0.5894 - val_dense_8_loss: 0.2950 - val_dense_9_loss: 0.2944 - val_dense_8_mae: 0.3641 - val_dense_9_mae: 0.3648\n",
      "Epoch 18/100\n",
      "11610/11610 [==============================] - 1s 44us/sample - loss: 0.5693 - dense_8_loss: 0.2889 - dense_9_loss: 0.2804 - dense_8_mae: 0.3627 - dense_9_mae: 0.3610 - val_loss: 0.5835 - val_dense_8_loss: 0.2926 - val_dense_9_loss: 0.2909 - val_dense_8_mae: 0.3698 - val_dense_9_mae: 0.3711\n",
      "Epoch 19/100\n",
      "11610/11610 [==============================] - 1s 48us/sample - loss: 0.5482 - dense_8_loss: 0.2771 - dense_9_loss: 0.2716 - dense_8_mae: 0.3612 - dense_9_mae: 0.3599 - val_loss: 0.5809 - val_dense_8_loss: 0.2898 - val_dense_9_loss: 0.2911 - val_dense_8_mae: 0.3780 - val_dense_9_mae: 0.3793\n",
      "Epoch 20/100\n",
      "11610/11610 [==============================] - 1s 44us/sample - loss: 0.5427 - dense_8_loss: 0.2734 - dense_9_loss: 0.2697 - dense_8_mae: 0.3597 - dense_9_mae: 0.3586 - val_loss: 0.6360 - val_dense_8_loss: 0.3191 - val_dense_9_loss: 0.3168 - val_dense_8_mae: 0.4113 - val_dense_9_mae: 0.4109\n",
      "Epoch 21/100\n",
      "11610/11610 [==============================] - 0s 42us/sample - loss: 0.5317 - dense_8_loss: 0.2666 - dense_9_loss: 0.2655 - dense_8_mae: 0.3583 - dense_9_mae: 0.3574 - val_loss: 0.7244 - val_dense_8_loss: 0.3622 - val_dense_9_loss: 0.3622 - val_dense_8_mae: 0.4481 - val_dense_9_mae: 0.4483\n",
      "Epoch 22/100\n",
      "11610/11610 [==============================] - 1s 46us/sample - loss: 0.5365 - dense_8_loss: 0.2691 - dense_9_loss: 0.2673 - dense_8_mae: 0.3578 - dense_9_mae: 0.3572 - val_loss: 0.6146 - val_dense_8_loss: 0.3083 - val_dense_9_loss: 0.3063 - val_dense_8_mae: 0.3748 - val_dense_9_mae: 0.3757\n",
      "Epoch 23/100\n",
      "11610/11610 [==============================] - 1s 44us/sample - loss: 0.5388 - dense_8_loss: 0.2719 - dense_9_loss: 0.2669 - dense_8_mae: 0.3557 - dense_9_mae: 0.3544 - val_loss: 0.5850 - val_dense_8_loss: 0.2942 - val_dense_9_loss: 0.2908 - val_dense_8_mae: 0.3643 - val_dense_9_mae: 0.3640\n",
      "Epoch 24/100\n",
      "11610/11610 [==============================] - 0s 42us/sample - loss: 0.5289 - dense_8_loss: 0.2657 - dense_9_loss: 0.2631 - dense_8_mae: 0.3537 - dense_9_mae: 0.3527 - val_loss: 0.5884 - val_dense_8_loss: 0.2943 - val_dense_9_loss: 0.2940 - val_dense_8_mae: 0.3657 - val_dense_9_mae: 0.3647\n",
      "Epoch 25/100\n",
      "11610/11610 [==============================] - 0s 42us/sample - loss: 0.5292 - dense_8_loss: 0.2657 - dense_9_loss: 0.2636 - dense_8_mae: 0.3552 - dense_9_mae: 0.3550 - val_loss: 0.5978 - val_dense_8_loss: 0.2990 - val_dense_9_loss: 0.2987 - val_dense_8_mae: 0.3613 - val_dense_9_mae: 0.3614\n",
      "Epoch 26/100\n",
      "11610/11610 [==============================] - 0s 41us/sample - loss: 0.5213 - dense_8_loss: 0.2611 - dense_9_loss: 0.2604 - dense_8_mae: 0.3522 - dense_9_mae: 0.3517 - val_loss: 0.5925 - val_dense_8_loss: 0.2981 - val_dense_9_loss: 0.2944 - val_dense_8_mae: 0.3848 - val_dense_9_mae: 0.3817\n",
      "Epoch 27/100\n"
     ]
    },
    {
     "name": "stdout",
     "output_type": "stream",
     "text": [
      "11610/11610 [==============================] - 0s 42us/sample - loss: 0.5325 - dense_8_loss: 0.2677 - dense_9_loss: 0.2648 - dense_8_mae: 0.3528 - dense_9_mae: 0.3524 - val_loss: 0.6315 - val_dense_8_loss: 0.3159 - val_dense_9_loss: 0.3156 - val_dense_8_mae: 0.3721 - val_dense_9_mae: 0.3719\n",
      "Epoch 28/100\n",
      "11610/11610 [==============================] - 0s 41us/sample - loss: 0.5142 - dense_8_loss: 0.2578 - dense_9_loss: 0.2569 - dense_8_mae: 0.3504 - dense_9_mae: 0.3496 - val_loss: 0.5892 - val_dense_8_loss: 0.2944 - val_dense_9_loss: 0.2948 - val_dense_8_mae: 0.3684 - val_dense_9_mae: 0.3686\n",
      "Epoch 29/100\n",
      "11610/11610 [==============================] - 0s 41us/sample - loss: 0.5089 - dense_8_loss: 0.2551 - dense_9_loss: 0.2541 - dense_8_mae: 0.3483 - dense_9_mae: 0.3477 - val_loss: 0.6091 - val_dense_8_loss: 0.3037 - val_dense_9_loss: 0.3054 - val_dense_8_mae: 0.3964 - val_dense_9_mae: 0.3986\n",
      "Epoch 30/100\n",
      "11610/11610 [==============================] - 0s 41us/sample - loss: 0.5113 - dense_8_loss: 0.2559 - dense_9_loss: 0.2555 - dense_8_mae: 0.3488 - dense_9_mae: 0.3487 - val_loss: 0.5826 - val_dense_8_loss: 0.2912 - val_dense_9_loss: 0.2913 - val_dense_8_mae: 0.3650 - val_dense_9_mae: 0.3660\n",
      "Epoch 31/100\n",
      "11610/11610 [==============================] - 0s 43us/sample - loss: 0.5085 - dense_8_loss: 0.2543 - dense_9_loss: 0.2542 - dense_8_mae: 0.3485 - dense_9_mae: 0.3483 - val_loss: 0.5823 - val_dense_8_loss: 0.2907 - val_dense_9_loss: 0.2916 - val_dense_8_mae: 0.3603 - val_dense_9_mae: 0.3616\n",
      "Epoch 32/100\n",
      "11610/11610 [==============================] - 0s 42us/sample - loss: 0.5048 - dense_8_loss: 0.2527 - dense_9_loss: 0.2524 - dense_8_mae: 0.3461 - dense_9_mae: 0.3456 - val_loss: 0.5874 - val_dense_8_loss: 0.2934 - val_dense_9_loss: 0.2940 - val_dense_8_mae: 0.3705 - val_dense_9_mae: 0.3722\n",
      "Epoch 33/100\n",
      "11610/11610 [==============================] - 0s 42us/sample - loss: 0.5091 - dense_8_loss: 0.2550 - dense_9_loss: 0.2543 - dense_8_mae: 0.3469 - dense_9_mae: 0.3465 - val_loss: 0.5751 - val_dense_8_loss: 0.2876 - val_dense_9_loss: 0.2875 - val_dense_8_mae: 0.3633 - val_dense_9_mae: 0.3629\n",
      "Epoch 34/100\n",
      "11610/11610 [==============================] - 0s 43us/sample - loss: 0.5042 - dense_8_loss: 0.2521 - dense_9_loss: 0.2523 - dense_8_mae: 0.3452 - dense_9_mae: 0.3450 - val_loss: 0.5927 - val_dense_8_loss: 0.2967 - val_dense_9_loss: 0.2960 - val_dense_8_mae: 0.3688 - val_dense_9_mae: 0.3667\n",
      "Epoch 35/100\n",
      "11610/11610 [==============================] - 0s 42us/sample - loss: 0.5032 - dense_8_loss: 0.2525 - dense_9_loss: 0.2508 - dense_8_mae: 0.3457 - dense_9_mae: 0.3452 - val_loss: 0.5747 - val_dense_8_loss: 0.2869 - val_dense_9_loss: 0.2878 - val_dense_8_mae: 0.3711 - val_dense_9_mae: 0.3725\n",
      "Epoch 36/100\n",
      "11610/11610 [==============================] - 0s 42us/sample - loss: 0.4976 - dense_8_loss: 0.2489 - dense_9_loss: 0.2487 - dense_8_mae: 0.3449 - dense_9_mae: 0.3446 - val_loss: 0.5855 - val_dense_8_loss: 0.2917 - val_dense_9_loss: 0.2938 - val_dense_8_mae: 0.3559 - val_dense_9_mae: 0.3570\n",
      "Epoch 37/100\n",
      "11610/11610 [==============================] - 0s 42us/sample - loss: 0.4986 - dense_8_loss: 0.2501 - dense_9_loss: 0.2485 - dense_8_mae: 0.3425 - dense_9_mae: 0.3421 - val_loss: 0.5809 - val_dense_8_loss: 0.2899 - val_dense_9_loss: 0.2910 - val_dense_8_mae: 0.3658 - val_dense_9_mae: 0.3664\n",
      "Epoch 38/100\n",
      "11610/11610 [==============================] - 0s 43us/sample - loss: 0.4964 - dense_8_loss: 0.2486 - dense_9_loss: 0.2480 - dense_8_mae: 0.3436 - dense_9_mae: 0.3431 - val_loss: 0.5746 - val_dense_8_loss: 0.2871 - val_dense_9_loss: 0.2875 - val_dense_8_mae: 0.3677 - val_dense_9_mae: 0.3682\n",
      "Epoch 39/100\n",
      "11610/11610 [==============================] - 0s 40us/sample - loss: 0.4958 - dense_8_loss: 0.2488 - dense_9_loss: 0.2469 - dense_8_mae: 0.3431 - dense_9_mae: 0.3426 - val_loss: 0.5672 - val_dense_8_loss: 0.2830 - val_dense_9_loss: 0.2842 - val_dense_8_mae: 0.3647 - val_dense_9_mae: 0.3672\n",
      "Epoch 40/100\n",
      "11610/11610 [==============================] - 0s 41us/sample - loss: 0.4926 - dense_8_loss: 0.2463 - dense_9_loss: 0.2462 - dense_8_mae: 0.3419 - dense_9_mae: 0.3417 - val_loss: 0.5654 - val_dense_8_loss: 0.2823 - val_dense_9_loss: 0.2830 - val_dense_8_mae: 0.3626 - val_dense_9_mae: 0.3626\n",
      "Epoch 41/100\n",
      "11610/11610 [==============================] - 0s 38us/sample - loss: 0.4890 - dense_8_loss: 0.2446 - dense_9_loss: 0.2443 - dense_8_mae: 0.3403 - dense_9_mae: 0.3401 - val_loss: 0.5621 - val_dense_8_loss: 0.2806 - val_dense_9_loss: 0.2815 - val_dense_8_mae: 0.3575 - val_dense_9_mae: 0.3579\n",
      "Epoch 42/100\n",
      "11610/11610 [==============================] - 0s 40us/sample - loss: 0.4898 - dense_8_loss: 0.2456 - dense_9_loss: 0.2441 - dense_8_mae: 0.3405 - dense_9_mae: 0.3399 - val_loss: 0.5625 - val_dense_8_loss: 0.2810 - val_dense_9_loss: 0.2814 - val_dense_8_mae: 0.3598 - val_dense_9_mae: 0.3602\n",
      "Epoch 43/100\n",
      "11610/11610 [==============================] - 0s 40us/sample - loss: 0.4893 - dense_8_loss: 0.2445 - dense_9_loss: 0.2446 - dense_8_mae: 0.3394 - dense_9_mae: 0.3390 - val_loss: 0.6077 - val_dense_8_loss: 0.3030 - val_dense_9_loss: 0.3046 - val_dense_8_mae: 0.3626 - val_dense_9_mae: 0.3622\n",
      "Epoch 44/100\n",
      "11610/11610 [==============================] - 0s 41us/sample - loss: 0.4934 - dense_8_loss: 0.2475 - dense_9_loss: 0.2459 - dense_8_mae: 0.3398 - dense_9_mae: 0.3391 - val_loss: 0.5549 - val_dense_8_loss: 0.2768 - val_dense_9_loss: 0.2780 - val_dense_8_mae: 0.3541 - val_dense_9_mae: 0.3544\n",
      "Epoch 45/100\n",
      "11610/11610 [==============================] - 0s 43us/sample - loss: 0.4866 - dense_8_loss: 0.2431 - dense_9_loss: 0.2435 - dense_8_mae: 0.3370 - dense_9_mae: 0.3369 - val_loss: 0.5629 - val_dense_8_loss: 0.2809 - val_dense_9_loss: 0.2820 - val_dense_8_mae: 0.3565 - val_dense_9_mae: 0.3548\n",
      "Epoch 46/100\n",
      "11610/11610 [==============================] - 0s 43us/sample - loss: 0.4822 - dense_8_loss: 0.2413 - dense_9_loss: 0.2408 - dense_8_mae: 0.3375 - dense_9_mae: 0.3374 - val_loss: 0.5917 - val_dense_8_loss: 0.2968 - val_dense_9_loss: 0.2948 - val_dense_8_mae: 0.3779 - val_dense_9_mae: 0.3769\n",
      "Epoch 47/100\n",
      "11610/11610 [==============================] - 0s 40us/sample - loss: 0.4834 - dense_8_loss: 0.2417 - dense_9_loss: 0.2415 - dense_8_mae: 0.3380 - dense_9_mae: 0.3378 - val_loss: 0.5619 - val_dense_8_loss: 0.2813 - val_dense_9_loss: 0.2805 - val_dense_8_mae: 0.3638 - val_dense_9_mae: 0.3626\n",
      "Epoch 48/100\n",
      "11610/11610 [==============================] - 0s 42us/sample - loss: 0.4762 - dense_8_loss: 0.2380 - dense_9_loss: 0.2384 - dense_8_mae: 0.3366 - dense_9_mae: 0.3364 - val_loss: 0.5856 - val_dense_8_loss: 0.2938 - val_dense_9_loss: 0.2918 - val_dense_8_mae: 0.3656 - val_dense_9_mae: 0.3642\n",
      "Epoch 49/100\n",
      "11610/11610 [==============================] - 0s 39us/sample - loss: 0.4814 - dense_8_loss: 0.2408 - dense_9_loss: 0.2405 - dense_8_mae: 0.3354 - dense_9_mae: 0.3355 - val_loss: 0.5849 - val_dense_8_loss: 0.2922 - val_dense_9_loss: 0.2926 - val_dense_8_mae: 0.3593 - val_dense_9_mae: 0.3586\n",
      "Epoch 50/100\n",
      "11610/11610 [==============================] - 0s 42us/sample - loss: 0.4765 - dense_8_loss: 0.2383 - dense_9_loss: 0.2382 - dense_8_mae: 0.3350 - dense_9_mae: 0.3345 - val_loss: 0.5924 - val_dense_8_loss: 0.2962 - val_dense_9_loss: 0.2962 - val_dense_8_mae: 0.3565 - val_dense_9_mae: 0.3562\n",
      "Epoch 51/100\n",
      "11610/11610 [==============================] - 0s 39us/sample - loss: 0.4844 - dense_8_loss: 0.2424 - dense_9_loss: 0.2420 - dense_8_mae: 0.3354 - dense_9_mae: 0.3350 - val_loss: 0.5988 - val_dense_8_loss: 0.3005 - val_dense_9_loss: 0.2983 - val_dense_8_mae: 0.3901 - val_dense_9_mae: 0.3883\n",
      "Epoch 52/100\n",
      "11610/11610 [==============================] - 0s 39us/sample - loss: 0.4738 - dense_8_loss: 0.2372 - dense_9_loss: 0.2366 - dense_8_mae: 0.3342 - dense_9_mae: 0.3336 - val_loss: 0.5756 - val_dense_8_loss: 0.2879 - val_dense_9_loss: 0.2876 - val_dense_8_mae: 0.3588 - val_dense_9_mae: 0.3575\n",
      "Epoch 53/100\n",
      "11610/11610 [==============================] - 0s 42us/sample - loss: 0.4796 - dense_8_loss: 0.2396 - dense_9_loss: 0.2400 - dense_8_mae: 0.3350 - dense_9_mae: 0.3343 - val_loss: 0.5730 - val_dense_8_loss: 0.2868 - val_dense_9_loss: 0.2861 - val_dense_8_mae: 0.3615 - val_dense_9_mae: 0.3605\n"
     ]
    },
    {
     "name": "stdout",
     "output_type": "stream",
     "text": [
      "Epoch 54/100\n",
      "11610/11610 [==============================] - 1s 44us/sample - loss: 0.4777 - dense_8_loss: 0.2392 - dense_9_loss: 0.2385 - dense_8_mae: 0.3347 - dense_9_mae: 0.3344 - val_loss: 0.5735 - val_dense_8_loss: 0.2866 - val_dense_9_loss: 0.2868 - val_dense_8_mae: 0.3529 - val_dense_9_mae: 0.3530\n",
      "Epoch 55/100\n",
      "11610/11610 [==============================] - 1s 46us/sample - loss: 0.4731 - dense_8_loss: 0.2367 - dense_9_loss: 0.2368 - dense_8_mae: 0.3329 - dense_9_mae: 0.3323 - val_loss: 0.6038 - val_dense_8_loss: 0.3014 - val_dense_9_loss: 0.3024 - val_dense_8_mae: 0.3905 - val_dense_9_mae: 0.3905\n",
      "Epoch 56/100\n",
      "11610/11610 [==============================] - 0s 41us/sample - loss: 0.4689 - dense_8_loss: 0.2344 - dense_9_loss: 0.2343 - dense_8_mae: 0.3314 - dense_9_mae: 0.3313 - val_loss: 0.5767 - val_dense_8_loss: 0.2876 - val_dense_9_loss: 0.2890 - val_dense_8_mae: 0.3544 - val_dense_9_mae: 0.3541\n",
      "Epoch 57/100\n",
      "11610/11610 [==============================] - 0s 42us/sample - loss: 0.4675 - dense_8_loss: 0.2343 - dense_9_loss: 0.2335 - dense_8_mae: 0.3318 - dense_9_mae: 0.3314 - val_loss: 0.5701 - val_dense_8_loss: 0.2840 - val_dense_9_loss: 0.2860 - val_dense_8_mae: 0.3682 - val_dense_9_mae: 0.3707\n",
      "Epoch 58/100\n",
      "11610/11610 [==============================] - 0s 42us/sample - loss: 0.4727 - dense_8_loss: 0.2367 - dense_9_loss: 0.2361 - dense_8_mae: 0.3321 - dense_9_mae: 0.3321 - val_loss: 0.6189 - val_dense_8_loss: 0.3105 - val_dense_9_loss: 0.3084 - val_dense_8_mae: 0.3980 - val_dense_9_mae: 0.3976\n",
      "Epoch 59/100\n",
      "11610/11610 [==============================] - 0s 42us/sample - loss: 0.4736 - dense_8_loss: 0.2367 - dense_9_loss: 0.2369 - dense_8_mae: 0.3309 - dense_9_mae: 0.3308 - val_loss: 0.5637 - val_dense_8_loss: 0.2828 - val_dense_9_loss: 0.2809 - val_dense_8_mae: 0.3545 - val_dense_9_mae: 0.3545\n",
      "Epoch 60/100\n",
      "11610/11610 [==============================] - 0s 43us/sample - loss: 0.4629 - dense_8_loss: 0.2316 - dense_9_loss: 0.2314 - dense_8_mae: 0.3291 - dense_9_mae: 0.3289 - val_loss: 0.5874 - val_dense_8_loss: 0.2936 - val_dense_9_loss: 0.2936 - val_dense_8_mae: 0.3701 - val_dense_9_mae: 0.3705\n",
      "Epoch 61/100\n",
      "11610/11610 [==============================] - 0s 43us/sample - loss: 0.4643 - dense_8_loss: 0.2318 - dense_9_loss: 0.2323 - dense_8_mae: 0.3293 - dense_9_mae: 0.3293 - val_loss: 0.5712 - val_dense_8_loss: 0.2859 - val_dense_9_loss: 0.2853 - val_dense_8_mae: 0.3636 - val_dense_9_mae: 0.3632\n",
      "Epoch 62/100\n",
      "11610/11610 [==============================] - 0s 43us/sample - loss: 0.4642 - dense_8_loss: 0.2325 - dense_9_loss: 0.2320 - dense_8_mae: 0.3297 - dense_9_mae: 0.3297 - val_loss: 0.5713 - val_dense_8_loss: 0.2855 - val_dense_9_loss: 0.2857 - val_dense_8_mae: 0.3572 - val_dense_9_mae: 0.3571\n",
      "Epoch 63/100\n",
      "11610/11610 [==============================] - 1s 47us/sample - loss: 0.4617 - dense_8_loss: 0.2308 - dense_9_loss: 0.2308 - dense_8_mae: 0.3298 - dense_9_mae: 0.3300 - val_loss: 0.5678 - val_dense_8_loss: 0.2841 - val_dense_9_loss: 0.2836 - val_dense_8_mae: 0.3651 - val_dense_9_mae: 0.3662\n",
      "Epoch 64/100\n",
      "11610/11610 [==============================] - 0s 42us/sample - loss: 0.4593 - dense_8_loss: 0.2298 - dense_9_loss: 0.2295 - dense_8_mae: 0.3286 - dense_9_mae: 0.3283 - val_loss: 0.5635 - val_dense_8_loss: 0.2812 - val_dense_9_loss: 0.2822 - val_dense_8_mae: 0.3539 - val_dense_9_mae: 0.3548\n",
      "Epoch 65/100\n",
      "11610/11610 [==============================] - 0s 40us/sample - loss: 0.4718 - dense_8_loss: 0.2366 - dense_9_loss: 0.2351 - dense_8_mae: 0.3290 - dense_9_mae: 0.3290 - val_loss: 0.5813 - val_dense_8_loss: 0.2905 - val_dense_9_loss: 0.2907 - val_dense_8_mae: 0.3534 - val_dense_9_mae: 0.3531\n",
      "Epoch 66/100\n",
      "11610/11610 [==============================] - 0s 42us/sample - loss: 0.4570 - dense_8_loss: 0.2281 - dense_9_loss: 0.2288 - dense_8_mae: 0.3280 - dense_9_mae: 0.3282 - val_loss: 0.5982 - val_dense_8_loss: 0.3009 - val_dense_9_loss: 0.2973 - val_dense_8_mae: 0.3613 - val_dense_9_mae: 0.3601\n",
      "Epoch 67/100\n",
      "11610/11610 [==============================] - 0s 41us/sample - loss: 0.4662 - dense_8_loss: 0.2331 - dense_9_loss: 0.2330 - dense_8_mae: 0.3287 - dense_9_mae: 0.3288 - val_loss: 0.5703 - val_dense_8_loss: 0.2852 - val_dense_9_loss: 0.2851 - val_dense_8_mae: 0.3495 - val_dense_9_mae: 0.3496\n",
      "Epoch 68/100\n",
      "11610/11610 [==============================] - 0s 39us/sample - loss: 0.4561 - dense_8_loss: 0.2281 - dense_9_loss: 0.2280 - dense_8_mae: 0.3268 - dense_9_mae: 0.3270 - val_loss: 0.5602 - val_dense_8_loss: 0.2799 - val_dense_9_loss: 0.2802 - val_dense_8_mae: 0.3479 - val_dense_9_mae: 0.3479\n",
      "Epoch 69/100\n",
      "11610/11610 [==============================] - 0s 39us/sample - loss: 0.4589 - dense_8_loss: 0.2292 - dense_9_loss: 0.2298 - dense_8_mae: 0.3276 - dense_9_mae: 0.3276 - val_loss: 0.5742 - val_dense_8_loss: 0.2881 - val_dense_9_loss: 0.2860 - val_dense_8_mae: 0.3556 - val_dense_9_mae: 0.3544\n",
      "Epoch 70/100\n",
      "11610/11610 [==============================] - 0s 41us/sample - loss: 0.4541 - dense_8_loss: 0.2272 - dense_9_loss: 0.2269 - dense_8_mae: 0.3262 - dense_9_mae: 0.3262 - val_loss: 0.5719 - val_dense_8_loss: 0.2861 - val_dense_9_loss: 0.2857 - val_dense_8_mae: 0.3732 - val_dense_9_mae: 0.3726\n",
      "Epoch 71/100\n",
      "11610/11610 [==============================] - 0s 41us/sample - loss: 0.4614 - dense_8_loss: 0.2315 - dense_9_loss: 0.2299 - dense_8_mae: 0.3258 - dense_9_mae: 0.3255 - val_loss: 0.5540 - val_dense_8_loss: 0.2771 - val_dense_9_loss: 0.2768 - val_dense_8_mae: 0.3606 - val_dense_9_mae: 0.3599\n",
      "Epoch 72/100\n",
      "11610/11610 [==============================] - 0s 41us/sample - loss: 0.4540 - dense_8_loss: 0.2273 - dense_9_loss: 0.2268 - dense_8_mae: 0.3262 - dense_9_mae: 0.3262 - val_loss: 0.5779 - val_dense_8_loss: 0.2889 - val_dense_9_loss: 0.2888 - val_dense_8_mae: 0.3568 - val_dense_9_mae: 0.3553\n",
      "Epoch 73/100\n",
      "11610/11610 [==============================] - 1s 45us/sample - loss: 0.4495 - dense_8_loss: 0.2245 - dense_9_loss: 0.2252 - dense_8_mae: 0.3254 - dense_9_mae: 0.3257 - val_loss: 0.5683 - val_dense_8_loss: 0.2856 - val_dense_9_loss: 0.2827 - val_dense_8_mae: 0.3642 - val_dense_9_mae: 0.3639\n",
      "Epoch 74/100\n",
      "11610/11610 [==============================] - 0s 42us/sample - loss: 0.4458 - dense_8_loss: 0.2227 - dense_9_loss: 0.2231 - dense_8_mae: 0.3247 - dense_9_mae: 0.3249 - val_loss: 0.5474 - val_dense_8_loss: 0.2738 - val_dense_9_loss: 0.2735 - val_dense_8_mae: 0.3501 - val_dense_9_mae: 0.3504\n",
      "Epoch 75/100\n",
      "11610/11610 [==============================] - 1s 43us/sample - loss: 0.4519 - dense_8_loss: 0.2264 - dense_9_loss: 0.2255 - dense_8_mae: 0.3252 - dense_9_mae: 0.3252 - val_loss: 0.5600 - val_dense_8_loss: 0.2804 - val_dense_9_loss: 0.2795 - val_dense_8_mae: 0.3554 - val_dense_9_mae: 0.3545\n",
      "Epoch 76/100\n",
      "11610/11610 [==============================] - 0s 42us/sample - loss: 0.4524 - dense_8_loss: 0.2271 - dense_9_loss: 0.2252 - dense_8_mae: 0.3250 - dense_9_mae: 0.3247 - val_loss: 0.5779 - val_dense_8_loss: 0.2884 - val_dense_9_loss: 0.2894 - val_dense_8_mae: 0.3531 - val_dense_9_mae: 0.3525\n",
      "Epoch 77/100\n",
      "11610/11610 [==============================] - 1s 44us/sample - loss: 0.4464 - dense_8_loss: 0.2233 - dense_9_loss: 0.2231 - dense_8_mae: 0.3233 - dense_9_mae: 0.3233 - val_loss: 0.6072 - val_dense_8_loss: 0.3022 - val_dense_9_loss: 0.3049 - val_dense_8_mae: 0.3812 - val_dense_9_mae: 0.3806\n",
      "Epoch 78/100\n",
      "11610/11610 [==============================] - 1s 43us/sample - loss: 0.4540 - dense_8_loss: 0.2267 - dense_9_loss: 0.2275 - dense_8_mae: 0.3239 - dense_9_mae: 0.3238 - val_loss: 0.6381 - val_dense_8_loss: 0.3193 - val_dense_9_loss: 0.3187 - val_dense_8_mae: 0.3682 - val_dense_9_mae: 0.3671\n",
      "Epoch 79/100\n",
      "11610/11610 [==============================] - 0s 40us/sample - loss: 0.4590 - dense_8_loss: 0.2294 - dense_9_loss: 0.2296 - dense_8_mae: 0.3243 - dense_9_mae: 0.3245 - val_loss: 0.5565 - val_dense_8_loss: 0.2782 - val_dense_9_loss: 0.2782 - val_dense_8_mae: 0.3543 - val_dense_9_mae: 0.3543\n",
      "Epoch 80/100\n",
      "11610/11610 [==============================] - 0s 42us/sample - loss: 0.4520 - dense_8_loss: 0.2258 - dense_9_loss: 0.2262 - dense_8_mae: 0.3221 - dense_9_mae: 0.3221 - val_loss: 0.5574 - val_dense_8_loss: 0.2794 - val_dense_9_loss: 0.2780 - val_dense_8_mae: 0.3538 - val_dense_9_mae: 0.3528\n"
     ]
    },
    {
     "name": "stdout",
     "output_type": "stream",
     "text": [
      "Epoch 81/100\n",
      "11610/11610 [==============================] - 0s 43us/sample - loss: 0.4392 - dense_8_loss: 0.2196 - dense_9_loss: 0.2196 - dense_8_mae: 0.3218 - dense_9_mae: 0.3216 - val_loss: 0.5512 - val_dense_8_loss: 0.2754 - val_dense_9_loss: 0.2757 - val_dense_8_mae: 0.3562 - val_dense_9_mae: 0.3569\n",
      "Epoch 82/100\n",
      "11610/11610 [==============================] - 0s 42us/sample - loss: 0.4487 - dense_8_loss: 0.2240 - dense_9_loss: 0.2247 - dense_8_mae: 0.3241 - dense_9_mae: 0.3238 - val_loss: 0.5672 - val_dense_8_loss: 0.2830 - val_dense_9_loss: 0.2841 - val_dense_8_mae: 0.3538 - val_dense_9_mae: 0.3545\n",
      "Epoch 83/100\n",
      "11610/11610 [==============================] - 0s 41us/sample - loss: 0.4362 - dense_8_loss: 0.2180 - dense_9_loss: 0.2181 - dense_8_mae: 0.3216 - dense_9_mae: 0.3215 - val_loss: 0.5724 - val_dense_8_loss: 0.2856 - val_dense_9_loss: 0.2866 - val_dense_8_mae: 0.3649 - val_dense_9_mae: 0.3643\n",
      "Epoch 84/100\n",
      "11610/11610 [==============================] - 0s 42us/sample - loss: 0.4426 - dense_8_loss: 0.2223 - dense_9_loss: 0.2202 - dense_8_mae: 0.3224 - dense_9_mae: 0.3225 - val_loss: 0.5606 - val_dense_8_loss: 0.2806 - val_dense_9_loss: 0.2799 - val_dense_8_mae: 0.3550 - val_dense_9_mae: 0.3534\n",
      "Epoch 85/100\n",
      "11610/11610 [==============================] - 0s 41us/sample - loss: 0.4414 - dense_8_loss: 0.2206 - dense_9_loss: 0.2208 - dense_8_mae: 0.3222 - dense_9_mae: 0.3222 - val_loss: 0.5484 - val_dense_8_loss: 0.2740 - val_dense_9_loss: 0.2743 - val_dense_8_mae: 0.3526 - val_dense_9_mae: 0.3530\n",
      "Epoch 86/100\n",
      "11610/11610 [==============================] - 0s 43us/sample - loss: 0.4333 - dense_8_loss: 0.2167 - dense_9_loss: 0.2165 - dense_8_mae: 0.3209 - dense_9_mae: 0.3208 - val_loss: 0.5497 - val_dense_8_loss: 0.2750 - val_dense_9_loss: 0.2746 - val_dense_8_mae: 0.3467 - val_dense_9_mae: 0.3464\n",
      "Epoch 87/100\n",
      "11610/11610 [==============================] - 0s 40us/sample - loss: 0.4432 - dense_8_loss: 0.2218 - dense_9_loss: 0.2217 - dense_8_mae: 0.3208 - dense_9_mae: 0.3209 - val_loss: 0.5623 - val_dense_8_loss: 0.2805 - val_dense_9_loss: 0.2816 - val_dense_8_mae: 0.3558 - val_dense_9_mae: 0.3557\n",
      "Epoch 88/100\n",
      "11610/11610 [==============================] - 0s 41us/sample - loss: 0.4320 - dense_8_loss: 0.2158 - dense_9_loss: 0.2163 - dense_8_mae: 0.3199 - dense_9_mae: 0.3200 - val_loss: 0.5735 - val_dense_8_loss: 0.2871 - val_dense_9_loss: 0.2864 - val_dense_8_mae: 0.3629 - val_dense_9_mae: 0.3623\n",
      "Epoch 89/100\n",
      "11610/11610 [==============================] - 0s 43us/sample - loss: 0.4326 - dense_8_loss: 0.2155 - dense_9_loss: 0.2171 - dense_8_mae: 0.3195 - dense_9_mae: 0.3197 - val_loss: 0.5748 - val_dense_8_loss: 0.2876 - val_dense_9_loss: 0.2871 - val_dense_8_mae: 0.3484 - val_dense_9_mae: 0.3479\n",
      "Epoch 90/100\n",
      "11610/11610 [==============================] - 0s 40us/sample - loss: 0.4357 - dense_8_loss: 0.2180 - dense_9_loss: 0.2175 - dense_8_mae: 0.3202 - dense_9_mae: 0.3199 - val_loss: 0.5680 - val_dense_8_loss: 0.2845 - val_dense_9_loss: 0.2834 - val_dense_8_mae: 0.3533 - val_dense_9_mae: 0.3528\n",
      "Epoch 91/100\n",
      "11610/11610 [==============================] - 0s 41us/sample - loss: 0.4295 - dense_8_loss: 0.2147 - dense_9_loss: 0.2150 - dense_8_mae: 0.3184 - dense_9_mae: 0.3183 - val_loss: 0.5751 - val_dense_8_loss: 0.2881 - val_dense_9_loss: 0.2870 - val_dense_8_mae: 0.3546 - val_dense_9_mae: 0.3533\n",
      "Epoch 92/100\n",
      "11610/11610 [==============================] - 1s 43us/sample - loss: 0.4321 - dense_8_loss: 0.2160 - dense_9_loss: 0.2162 - dense_8_mae: 0.3196 - dense_9_mae: 0.3191 - val_loss: 0.5882 - val_dense_8_loss: 0.2945 - val_dense_9_loss: 0.2936 - val_dense_8_mae: 0.3655 - val_dense_9_mae: 0.3643\n",
      "Epoch 93/100\n",
      "11610/11610 [==============================] - 0s 41us/sample - loss: 0.4275 - dense_8_loss: 0.2135 - dense_9_loss: 0.2139 - dense_8_mae: 0.3179 - dense_9_mae: 0.3181 - val_loss: 0.5625 - val_dense_8_loss: 0.2812 - val_dense_9_loss: 0.2812 - val_dense_8_mae: 0.3507 - val_dense_9_mae: 0.3505\n",
      "Epoch 94/100\n",
      "11610/11610 [==============================] - 0s 41us/sample - loss: 0.4271 - dense_8_loss: 0.2132 - dense_9_loss: 0.2139 - dense_8_mae: 0.3187 - dense_9_mae: 0.3186 - val_loss: 0.5425 - val_dense_8_loss: 0.2707 - val_dense_9_loss: 0.2717 - val_dense_8_mae: 0.3537 - val_dense_9_mae: 0.3540\n",
      "Epoch 95/100\n",
      "11610/11610 [==============================] - 0s 42us/sample - loss: 0.4277 - dense_8_loss: 0.2135 - dense_9_loss: 0.2142 - dense_8_mae: 0.3175 - dense_9_mae: 0.3174 - val_loss: 0.5568 - val_dense_8_loss: 0.2787 - val_dense_9_loss: 0.2780 - val_dense_8_mae: 0.3539 - val_dense_9_mae: 0.3528\n",
      "Epoch 96/100\n",
      "11610/11610 [==============================] - 0s 41us/sample - loss: 0.4396 - dense_8_loss: 0.2200 - dense_9_loss: 0.2196 - dense_8_mae: 0.3175 - dense_9_mae: 0.3176 - val_loss: 0.5787 - val_dense_8_loss: 0.2898 - val_dense_9_loss: 0.2888 - val_dense_8_mae: 0.3522 - val_dense_9_mae: 0.3509\n",
      "Epoch 97/100\n",
      "11610/11610 [==============================] - 0s 42us/sample - loss: 0.4247 - dense_8_loss: 0.2122 - dense_9_loss: 0.2125 - dense_8_mae: 0.3184 - dense_9_mae: 0.3181 - val_loss: 0.5615 - val_dense_8_loss: 0.2806 - val_dense_9_loss: 0.2808 - val_dense_8_mae: 0.3606 - val_dense_9_mae: 0.3612\n",
      "Epoch 98/100\n",
      "11610/11610 [==============================] - 0s 41us/sample - loss: 0.4253 - dense_8_loss: 0.2126 - dense_9_loss: 0.2129 - dense_8_mae: 0.3155 - dense_9_mae: 0.3154 - val_loss: 0.6098 - val_dense_8_loss: 0.3057 - val_dense_9_loss: 0.3041 - val_dense_8_mae: 0.3631 - val_dense_9_mae: 0.3613\n",
      "Epoch 99/100\n",
      "11610/11610 [==============================] - 0s 39us/sample - loss: 0.4216 - dense_8_loss: 0.2106 - dense_9_loss: 0.2109 - dense_8_mae: 0.3160 - dense_9_mae: 0.3161 - val_loss: 0.5618 - val_dense_8_loss: 0.2810 - val_dense_9_loss: 0.2807 - val_dense_8_mae: 0.3535 - val_dense_9_mae: 0.3529\n",
      "Epoch 100/100\n",
      "11610/11610 [==============================] - 1s 44us/sample - loss: 0.4283 - dense_8_loss: 0.2141 - dense_9_loss: 0.2142 - dense_8_mae: 0.3163 - dense_9_mae: 0.3159 - val_loss: 0.5524 - val_dense_8_loss: 0.2759 - val_dense_9_loss: 0.2764 - val_dense_8_mae: 0.3478 - val_dense_9_mae: 0.3472\n"
     ]
    }
   ],
   "source": [
    "ressults = model.fit((x_train_scaled , x_train_2, x_train_3), [y_train, y_train], epochs=100,\\\n",
    "                    validation_data=((x_validation_scaled, x_validation_2, x_validation_3), [y_validation,y_validation]))"
   ]
  },
  {
   "cell_type": "code",
   "execution_count": 20,
   "id": "133ca7dd",
   "metadata": {},
   "outputs": [
    {
     "name": "stdout",
     "output_type": "stream",
     "text": [
      "5160/5160 [==============================] - 0s 24us/sample - loss: 0.6470 - dense_8_loss: 0.3207 - dense_9_loss: 0.3244 - dense_8_mae: 0.3584 - dense_9_mae: 0.3590\n"
     ]
    }
   ],
   "source": [
    "res_eval = model.evaluate((x_test_scaled, x_test_2, x_test_3), [y_test, y_test])"
   ]
  },
  {
   "cell_type": "code",
   "execution_count": 21,
   "id": "d6924a2b",
   "metadata": {},
   "outputs": [
    {
     "name": "stdout",
     "output_type": "stream",
     "text": [
      "y_pred = [array([[1.0698228],\n",
      "       [0.8772676],\n",
      "       [1.882385 ]], dtype=float32), array([[1.0703032 ],\n",
      "       [0.84909767],\n",
      "       [1.891499  ]], dtype=float32)]\n"
     ]
    }
   ],
   "source": [
    "x_new_1, x_new_2, x_new_3 = x_test_scaled[:3], x_test_scaled[:3, :5], x_test_scaled[:3, 5:]\n",
    "y_pred = model.predict((x_new_1, x_new_2,x_new_3))\n",
    " \n",
    "print(f\"y_pred = {y_pred}\")"
   ]
  },
  {
   "cell_type": "code",
   "execution_count": null,
   "id": "81b145d9",
   "metadata": {},
   "outputs": [],
   "source": []
  }
 ],
 "metadata": {
  "kernelspec": {
   "display_name": "Python 3",
   "language": "python",
   "name": "python3"
  },
  "language_info": {
   "codemirror_mode": {
    "name": "ipython",
    "version": 3
   },
   "file_extension": ".py",
   "mimetype": "text/x-python",
   "name": "python",
   "nbconvert_exporter": "python",
   "pygments_lexer": "ipython3",
   "version": "3.6.13"
  }
 },
 "nbformat": 4,
 "nbformat_minor": 5
}

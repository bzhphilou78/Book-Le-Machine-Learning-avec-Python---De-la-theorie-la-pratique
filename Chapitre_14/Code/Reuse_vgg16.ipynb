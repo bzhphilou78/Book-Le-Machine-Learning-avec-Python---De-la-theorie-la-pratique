{
 "cells": [
  {
   "cell_type": "code",
   "execution_count": 9,
   "id": "bc0ed631",
   "metadata": {},
   "outputs": [
    {
     "name": "stdout",
     "output_type": "stream",
     "text": [
      "[[('n02106166', 'Border_collie', 0.60584766), ('n02106030', 'collie', 0.27727306), ('n02090622', 'borzoi', 0.054326974), ('n02092002', 'Scottish_deerhound', 0.022940766), ('n02107683', 'Bernese_mountain_dog', 0.012941362)]]\n"
     ]
    }
   ],
   "source": [
    "import tensorflow as tf\n",
    "from tensorflow import keras\n",
    "import os\n",
    "import pandas as pd\n",
    "import numpy as np\n",
    "import matplotlib.pyplot as plt\n",
    "from tensorflow.keras.preprocessing import image\n",
    "from tensorflow.keras.applications import vgg16\n",
    "\n",
    "os.environ['TF_CPP_MIN_LOG_LEVEL']='2'\n",
    "\n",
    "model = vgg16.VGG16()\n",
    "\n",
    "img_src = image.load_img(\"../Data/Dogs/train/male/border-collie-2648945_1920.jpg\", target_size=(224,224)) \n",
    "img_test = image.img_to_array(img_src)\n",
    "\n",
    "img_test_lst = np.expand_dims(img_test, axis=0) \n",
    "\n",
    "img_test_lst = vgg16.preprocess_input(img_test_lst) \n",
    "\n",
    "predictions = model.predict(img_test_lst)\n",
    "\n",
    "\n",
    "predected_classes = vgg16.decode_predictions(predictions, top=5)\n",
    "\n",
    "print(predected_classes)\n",
    "\n",
    "\n",
    "\n",
    "\n"
   ]
  },
  {
   "cell_type": "code",
   "execution_count": null,
   "id": "57a9a331",
   "metadata": {},
   "outputs": [],
   "source": []
  }
 ],
 "metadata": {
  "kernelspec": {
   "display_name": "Python 3",
   "language": "python",
   "name": "python3"
  },
  "language_info": {
   "codemirror_mode": {
    "name": "ipython",
    "version": 3
   },
   "file_extension": ".py",
   "mimetype": "text/x-python",
   "name": "python",
   "nbconvert_exporter": "python",
   "pygments_lexer": "ipython3",
   "version": "3.6.13"
  }
 },
 "nbformat": 4,
 "nbformat_minor": 5
}

{
 "cells": [
  {
   "cell_type": "code",
   "execution_count": 5,
   "id": "5015730a",
   "metadata": {},
   "outputs": [],
   "source": [
    "import tensorflow as tf\n",
    "from tensorflow import keras\n",
    "import os\n",
    "import pandas as pd\n",
    "import numpy as np\n",
    "\n",
    "\n",
    "os.environ['TF_CPP_MIN_LOG_LEVEL']='2'\n",
    " \n",
    "\n",
    "cifar10_class_names = {\n",
    "    0:\"Plane\",\n",
    "    1:\"Car\",\n",
    "    2:\"Bird\",\n",
    "    3:\"Cat\",\n",
    "    4:\"Deer\",\n",
    "    5:\"Dog\",\n",
    "    6:\"Frog\",\n",
    "    7:\"Horse\",\n",
    "    8:\"Boat\",\n",
    "    9:\"Truck\",\n",
    "}\n",
    "\n",
    "\n",
    "\n"
   ]
  },
  {
   "cell_type": "code",
   "execution_count": 2,
   "id": "b42150a0",
   "metadata": {},
   "outputs": [],
   "source": [
    "model = keras.models.load_model(\"../Models/cifar10_model.h5\")"
   ]
  },
  {
   "cell_type": "code",
   "execution_count": 6,
   "id": "df6d2264",
   "metadata": {},
   "outputs": [],
   "source": []
  },
  {
   "cell_type": "code",
   "execution_count": 7,
   "id": "541f0e71",
   "metadata": {},
   "outputs": [],
   "source": [
    "my_images = np.zeros((2, 32, 32, 3))\n",
    "img1= keras.preprocessing.image.load_img(\"../Data/dog.jpg\", target_size=(32,32))\n",
    "img2= keras.preprocessing.image.load_img(\"../Data/cat.jpg\", target_size=(32,32))\n",
    "img1 = keras.preprocessing.image.img_to_array(img1) / 255\n",
    "img2 = keras.preprocessing.image.img_to_array(img2) / 255\n",
    "\n",
    "\n",
    "my_images[0, :] = img1\n",
    "my_images[1, :] = img2"
   ]
  },
  {
   "cell_type": "code",
   "execution_count": 4,
   "id": "b3927277",
   "metadata": {},
   "outputs": [
    {
     "name": "stdout",
     "output_type": "stream",
     "text": [
      "Dog - prob = 0.58 \n",
      "Cat - prob = 0.54 \n"
     ]
    }
   ],
   "source": [
    "results = model.predict(my_images)\n",
    " \n",
    " \n",
    "for r in results:\n",
    "    predected_class_index = int(np.argmax(r)) \n",
    "    predected_prob = r[predected_class_index]\n",
    "    print(f\"{cifar10_class_names[predected_class_index]} - prob = {round(float(predected_prob),2)} \")"
   ]
  },
  {
   "cell_type": "code",
   "execution_count": null,
   "id": "7b7e7f2f",
   "metadata": {},
   "outputs": [],
   "source": []
  }
 ],
 "metadata": {
  "kernelspec": {
   "display_name": "Python 3",
   "language": "python",
   "name": "python3"
  },
  "language_info": {
   "codemirror_mode": {
    "name": "ipython",
    "version": 3
   },
   "file_extension": ".py",
   "mimetype": "text/x-python",
   "name": "python",
   "nbconvert_exporter": "python",
   "pygments_lexer": "ipython3",
   "version": "3.6.13"
  }
 },
 "nbformat": 4,
 "nbformat_minor": 5
}

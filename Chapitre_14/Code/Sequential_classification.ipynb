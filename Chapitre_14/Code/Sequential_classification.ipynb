{
 "cells": [
  {
   "cell_type": "code",
   "execution_count": 1,
   "id": "18923755",
   "metadata": {},
   "outputs": [],
   "source": [
    "import tensorflow as tf\n",
    "from tensorflow import keras\n",
    "import os\n",
    "import pandas as pd\n",
    "import numpy as np\n",
    "import matplotlib.pyplot as plt\n",
    "\n",
    "os.environ['TF_CPP_MIN_LOG_LEVEL']='2'"
   ]
  },
  {
   "cell_type": "code",
   "execution_count": 2,
   "id": "78c181a5",
   "metadata": {},
   "outputs": [],
   "source": [
    "fashion_mnist_data = keras.datasets.fashion_mnist\n",
    "(all_x_train, all_y_train), (x_test, y_test) = fashion_mnist_data.load_data()\n",
    "\n",
    "all_x_train = all_x_train.astype('float32') \n",
    "x_test = x_test.astype('float32')"
   ]
  },
  {
   "cell_type": "code",
   "execution_count": 4,
   "id": "8783904b",
   "metadata": {},
   "outputs": [
    {
     "name": "stdout",
     "output_type": "stream",
     "text": [
      "all_x_train.shape = (60000, 28, 28)\n",
      "all_x_train[0].shape = (28, 28)\n",
      "all_x_train[0].dtype = float32\n",
      "x_test.shape = (10000,)\n"
     ]
    }
   ],
   "source": [
    "print(f\"all_x_train.shape = {all_x_train.shape}\")\n",
    "print(f\"all_x_train[0].shape = {all_x_train[0].shape}\")\n",
    "print(f\"all_x_train[0].dtype = {all_x_train[0].dtype}\")\n",
    "\n",
    "print(f\"x_test.shape = {x_test.shape}\")\n"
   ]
  },
  {
   "cell_type": "code",
   "execution_count": 4,
   "id": "fa22b836",
   "metadata": {},
   "outputs": [],
   "source": [
    "x_validation, x_train = all_x_train[:5000] / 255.0, all_x_train[5000:] / 255.0\n",
    "y_validation, y_train = all_y_train[:5000], all_y_train[5000:]"
   ]
  },
  {
   "cell_type": "code",
   "execution_count": 5,
   "id": "17a16b19",
   "metadata": {},
   "outputs": [
    {
     "name": "stdout",
     "output_type": "stream",
     "text": [
      "x_train.shape = (55000, 28, 28)\n",
      "x_train[0].shape = (28, 28)\n",
      "x_train[0].dtype = float32\n"
     ]
    }
   ],
   "source": [
    "print(f\"x_train.shape = {x_train.shape}\")\n",
    "print(f\"x_train[0].shape = {x_train[0].shape}\")\n",
    "print(f\"x_train[0].dtype = {x_train[0].dtype}\")"
   ]
  },
  {
   "cell_type": "code",
   "execution_count": 6,
   "id": "2737da54",
   "metadata": {},
   "outputs": [],
   "source": [
    "fashion_mnist_class_names = [\"T-shirt/top\", \"Trouser\", \"Pullover\", \"Dress\", \"Coat\", \"Sandal\", \"Shirt\", \"Sneaker\", \"Bag\", \"Ankle boot\"]"
   ]
  },
  {
   "cell_type": "code",
   "execution_count": 7,
   "id": "6b0d21a3",
   "metadata": {},
   "outputs": [
    {
     "name": "stdout",
     "output_type": "stream",
     "text": [
      "0 : Coat\n",
      "1 : T-shirt/top\n",
      "2 : Sneaker\n",
      "3 : Ankle boot\n",
      "4 : Ankle boot\n"
     ]
    }
   ],
   "source": [
    "for cls in range(5):\n",
    "    print(cls, \":\",fashion_mnist_class_names[y_train[cls]]) "
   ]
  },
  {
   "cell_type": "code",
   "execution_count": 8,
   "id": "8bf886c3",
   "metadata": {},
   "outputs": [
    {
     "data": {
      "image/png": "[encoded data removed]",
      "text/plain": [
       "<Figure size 432x288 with 1 Axes>"
      ]
     },
     "metadata": {
      "needs_background": "light"
     },
     "output_type": "display_data"
    },
    {
     "data": {
      "image/png": "[encoded data removed]",
      "text/plain": [
       "<Figure size 432x288 with 1 Axes>"
      ]
     },
     "metadata": {
      "needs_background": "light"
     },
     "output_type": "display_data"
    }
   ],
   "source": [
    "for i in range(2):\n",
    "    my_img= x_train[i]\n",
    "    my_img_class = y_train[i]\n",
    "    my_img_class_name = fashion_mnist_class_names[my_img_class] \n",
    "    plt.imshow(my_img)\n",
    "    plt.title(my_img_class_name)\n",
    "    plt.show() "
   ]
  },
  {
   "cell_type": "code",
   "execution_count": 9,
   "id": "63948b21",
   "metadata": {},
   "outputs": [],
   "source": [
    "model1 = keras.models.Sequential()\n",
    "model1.add(keras.layers.Flatten(input_shape=[28, 28]))\n",
    "model1.add(keras.layers.Dense(300, activation=\"relu\"))\n",
    "model1.add(keras.layers.Dense(150, activation=\"relu\"))\n",
    "model1.add(keras.layers.Dense(10, activation=\"softmax\"))\n",
    "\n",
    "\n",
    " "
   ]
  },
  {
   "cell_type": "code",
   "execution_count": 10,
   "id": "7481b0c8",
   "metadata": {},
   "outputs": [
    {
     "name": "stdout",
     "output_type": "stream",
     "text": [
      "Model: \"sequential\"\n",
      "_________________________________________________________________\n",
      "Layer (type)                 Output Shape              Param #   \n",
      "=================================================================\n",
      "flatten (Flatten)            (None, 784)               0         \n",
      "_________________________________________________________________\n",
      "dense (Dense)                (None, 300)               235500    \n",
      "_________________________________________________________________\n",
      "dense_1 (Dense)              (None, 150)               45150     \n",
      "_________________________________________________________________\n",
      "dense_2 (Dense)              (None, 10)                1510      \n",
      "=================================================================\n",
      "Total params: 282,160\n",
      "Trainable params: 282,160\n",
      "Non-trainable params: 0\n",
      "_________________________________________________________________\n"
     ]
    }
   ],
   "source": [
    "model1.summary() "
   ]
  },
  {
   "cell_type": "code",
   "execution_count": 11,
   "id": "3b386629",
   "metadata": {},
   "outputs": [
    {
     "name": "stdout",
     "output_type": "stream",
     "text": [
      "Les poids :\n",
      " \n",
      "[[ 0.0660976   0.05660684 -0.07136895 ...  0.0424329  -0.09606344\n",
      "  -0.05489517]\n",
      " [ 0.08349757  0.11541742  0.0792702  ...  0.05178729  0.00928503\n",
      "  -0.03378094]\n",
      " [ 0.00138865 -0.0233416  -0.00802676 ... -0.10342614 -0.00844335\n",
      "  -0.02871398]\n",
      " ...\n",
      " [-0.08509746  0.05107844  0.06101492 ... -0.11332393 -0.100563\n",
      "  -0.0649552 ]\n",
      " [-0.02766114 -0.10531881  0.09312865 ... -0.02262264  0.11483601\n",
      "   0.10447685]\n",
      " [-0.10813703 -0.00813232  0.01048039 ...  0.00991713  0.04582493\n",
      "  -0.07162592]]\n",
      "(300, 150)\n",
      "\n",
      "Les biais :\n",
      " \n",
      "[0. 0. 0. 0. 0. 0. 0. 0. 0. 0. 0. 0. 0. 0. 0. 0. 0. 0. 0. 0. 0. 0. 0. 0.\n",
      " 0. 0. 0. 0. 0. 0. 0. 0. 0. 0. 0. 0. 0. 0. 0. 0. 0. 0. 0. 0. 0. 0. 0. 0.\n",
      " 0. 0. 0. 0. 0. 0. 0. 0. 0. 0. 0. 0. 0. 0. 0. 0. 0. 0. 0. 0. 0. 0. 0. 0.\n",
      " 0. 0. 0. 0. 0. 0. 0. 0. 0. 0. 0. 0. 0. 0. 0. 0. 0. 0. 0. 0. 0. 0. 0. 0.\n",
      " 0. 0. 0. 0. 0. 0. 0. 0. 0. 0. 0. 0. 0. 0. 0. 0. 0. 0. 0. 0. 0. 0. 0. 0.\n",
      " 0. 0. 0. 0. 0. 0. 0. 0. 0. 0. 0. 0. 0. 0. 0. 0. 0. 0. 0. 0. 0. 0. 0. 0.\n",
      " 0. 0. 0. 0. 0. 0.]\n",
      "(150,)\n"
     ]
    }
   ],
   "source": [
    "hidden_ = model1.get_layer('dense_1')\n",
    "weights, biases = hidden_.get_weights()\n",
    "print(\"Les poids :\\n \")\n",
    "print(weights) \n",
    "print(weights.shape)\n",
    "print(\"\\nLes biais :\\n \")\n",
    "print(biases)\n",
    "print(biases.shape)"
   ]
  },
  {
   "cell_type": "code",
   "execution_count": 12,
   "id": "f77d5821",
   "metadata": {},
   "outputs": [
    {
     "name": "stdout",
     "output_type": "stream",
     "text": [
      "Model: \"sequential_1\"\n",
      "_________________________________________________________________\n",
      "Layer (type)                 Output Shape              Param #   \n",
      "=================================================================\n",
      "flatten_1 (Flatten)          (None, 784)               0         \n",
      "_________________________________________________________________\n",
      "dense_3 (Dense)              (None, 300)               235500    \n",
      "_________________________________________________________________\n",
      "dense_4 (Dense)              (None, 150)               45150     \n",
      "_________________________________________________________________\n",
      "dense_5 (Dense)              (None, 10)                1510      \n",
      "=================================================================\n",
      "Total params: 282,160\n",
      "Trainable params: 282,160\n",
      "Non-trainable params: 0\n",
      "_________________________________________________________________\n"
     ]
    }
   ],
   "source": [
    "model2 = keras.models.Sequential()\n",
    "model2.add(keras.layers.Flatten(input_shape=[28, 28]))\n",
    "model2.add(keras.layers.Dense(300, activation=\"relu\"))\n",
    "\n",
    "my_weights_initializer = tf.keras.initializers.RandomNormal(mean=100., stddev=1.)\n",
    "my_bias_initializer= tf.keras.initializers.Ones()  \n",
    "model2.add(keras.layers.Dense(150, activation=\"relu\" ,\\\n",
    "                                  kernel_initializer = my_weights_initializer, \\\n",
    "                                  bias_initializer = my_bias_initializer))\n",
    "model2.add(keras.layers.Dense(10, activation=\"softmax\"))\n",
    "\n",
    "model2.summary()\n",
    " "
   ]
  },
  {
   "cell_type": "code",
   "execution_count": 13,
   "id": "7b14c505",
   "metadata": {},
   "outputs": [
    {
     "name": "stdout",
     "output_type": "stream",
     "text": [
      "Les poids :\n",
      " \n",
      "[[101.781296  99.22688  101.06561  ... 100.05606   99.85397  100.30503 ]\n",
      " [101.71722   98.91859   99.06323  ... 101.620674  97.878395 101.26123 ]\n",
      " [ 98.25745   98.168045  99.38385  ... 100.782646  99.40467  100.490974]\n",
      " ...\n",
      " [101.12513  100.24388   99.547424 ... 101.528244  99.6419   100.93199 ]\n",
      " [100.34876  101.85785   99.90284  ...  99.7295   100.85832  101.88643 ]\n",
      " [ 99.76423   98.82184   98.95094  ... 100.01098  100.09875   98.182724]]\n",
      "(300, 150)\n",
      "\n",
      "Les biais :\n",
      " \n",
      "[1. 1. 1. 1. 1. 1. 1. 1. 1. 1. 1. 1. 1. 1. 1. 1. 1. 1. 1. 1. 1. 1. 1. 1.\n",
      " 1. 1. 1. 1. 1. 1. 1. 1. 1. 1. 1. 1. 1. 1. 1. 1. 1. 1. 1. 1. 1. 1. 1. 1.\n",
      " 1. 1. 1. 1. 1. 1. 1. 1. 1. 1. 1. 1. 1. 1. 1. 1. 1. 1. 1. 1. 1. 1. 1. 1.\n",
      " 1. 1. 1. 1. 1. 1. 1. 1. 1. 1. 1. 1. 1. 1. 1. 1. 1. 1. 1. 1. 1. 1. 1. 1.\n",
      " 1. 1. 1. 1. 1. 1. 1. 1. 1. 1. 1. 1. 1. 1. 1. 1. 1. 1. 1. 1. 1. 1. 1. 1.\n",
      " 1. 1. 1. 1. 1. 1. 1. 1. 1. 1. 1. 1. 1. 1. 1. 1. 1. 1. 1. 1. 1. 1. 1. 1.\n",
      " 1. 1. 1. 1. 1. 1.]\n",
      "(150,)\n"
     ]
    }
   ],
   "source": [
    "hidden_ = model2.get_layer('dense_4')\n",
    "weights, biases = hidden_.get_weights()\n",
    "print(\"Les poids :\\n \")\n",
    "print(weights) \n",
    "print(weights.shape)\n",
    "print(\"\\nLes biais :\\n \")\n",
    "print(biases)\n",
    "print(biases.shape)"
   ]
  },
  {
   "cell_type": "code",
   "execution_count": 14,
   "id": "8aa1a875",
   "metadata": {},
   "outputs": [],
   "source": [
    "model1.compile(loss=\"sparse_categorical_crossentropy\", optimizer=\"sgd\", metrics=[\"accuracy\"])"
   ]
  },
  {
   "cell_type": "code",
   "execution_count": 15,
   "id": "e448a491",
   "metadata": {},
   "outputs": [
    {
     "name": "stdout",
     "output_type": "stream",
     "text": [
      "Train on 55000 samples, validate on 5000 samples\n",
      "Epoch 1/40\n",
      "55000/55000 [==============================] - 4s 66us/sample - loss: 0.7186 - accuracy: 0.7665 - val_loss: 0.4936 - val_accuracy: 0.8354\n",
      "Epoch 2/40\n",
      "55000/55000 [==============================] - 3s 64us/sample - loss: 0.4873 - accuracy: 0.8302 - val_loss: 0.4528 - val_accuracy: 0.8490\n",
      "Epoch 3/40\n",
      "55000/55000 [==============================] - 4s 65us/sample - loss: 0.4425 - accuracy: 0.8452 - val_loss: 0.4283 - val_accuracy: 0.8490\n",
      "Epoch 4/40\n",
      "55000/55000 [==============================] - 3s 52us/sample - loss: 0.4142 - accuracy: 0.8551 - val_loss: 0.4000 - val_accuracy: 0.8602\n",
      "Epoch 5/40\n",
      "55000/55000 [==============================] - 3s 62us/sample - loss: 0.3945 - accuracy: 0.8606 - val_loss: 0.3931 - val_accuracy: 0.8620\n",
      "Epoch 6/40\n",
      "55000/55000 [==============================] - 3s 55us/sample - loss: 0.3780 - accuracy: 0.8660 - val_loss: 0.3705 - val_accuracy: 0.8660\n",
      "Epoch 7/40\n",
      "55000/55000 [==============================] - 3s 60us/sample - loss: 0.3642 - accuracy: 0.8703 - val_loss: 0.3655 - val_accuracy: 0.8716\n",
      "Epoch 8/40\n",
      "55000/55000 [==============================] - 3s 59us/sample - loss: 0.3538 - accuracy: 0.8751 - val_loss: 0.3467 - val_accuracy: 0.8766\n",
      "Epoch 9/40\n",
      "55000/55000 [==============================] - 3s 58us/sample - loss: 0.3432 - accuracy: 0.8782 - val_loss: 0.3424 - val_accuracy: 0.8760\n",
      "Epoch 10/40\n",
      "55000/55000 [==============================] - 4s 64us/sample - loss: 0.3348 - accuracy: 0.8804 - val_loss: 0.3407 - val_accuracy: 0.8756\n",
      "Epoch 11/40\n",
      "55000/55000 [==============================] - 3s 63us/sample - loss: 0.3253 - accuracy: 0.8835 - val_loss: 0.3545 - val_accuracy: 0.8726\n",
      "Epoch 12/40\n",
      "55000/55000 [==============================] - 3s 61us/sample - loss: 0.3172 - accuracy: 0.8859 - val_loss: 0.3299 - val_accuracy: 0.8834\n",
      "Epoch 13/40\n",
      "55000/55000 [==============================] - 3s 59us/sample - loss: 0.3094 - accuracy: 0.8897 - val_loss: 0.3422 - val_accuracy: 0.8768\n",
      "Epoch 14/40\n",
      "55000/55000 [==============================] - 3s 59us/sample - loss: 0.3032 - accuracy: 0.8911 - val_loss: 0.3318 - val_accuracy: 0.8820\n",
      "Epoch 15/40\n",
      "55000/55000 [==============================] - 3s 59us/sample - loss: 0.2961 - accuracy: 0.8932 - val_loss: 0.3331 - val_accuracy: 0.8826\n",
      "Epoch 16/40\n",
      "55000/55000 [==============================] - 3s 58us/sample - loss: 0.2900 - accuracy: 0.8956 - val_loss: 0.3223 - val_accuracy: 0.8820\n",
      "Epoch 17/40\n",
      "55000/55000 [==============================] - 3s 61us/sample - loss: 0.2844 - accuracy: 0.8978 - val_loss: 0.3113 - val_accuracy: 0.8868\n",
      "Epoch 18/40\n",
      "55000/55000 [==============================] - 3s 56us/sample - loss: 0.2798 - accuracy: 0.9006 - val_loss: 0.3179 - val_accuracy: 0.8868\n",
      "Epoch 19/40\n",
      "55000/55000 [==============================] - 3s 57us/sample - loss: 0.2740 - accuracy: 0.9011 - val_loss: 0.3192 - val_accuracy: 0.8816\n",
      "Epoch 20/40\n",
      "55000/55000 [==============================] - 3s 59us/sample - loss: 0.2695 - accuracy: 0.9032 - val_loss: 0.3056 - val_accuracy: 0.8946\n",
      "Epoch 21/40\n",
      "55000/55000 [==============================] - 4s 65us/sample - loss: 0.2643 - accuracy: 0.9049 - val_loss: 0.3035 - val_accuracy: 0.8938\n",
      "Epoch 22/40\n",
      "55000/55000 [==============================] - 4s 68us/sample - loss: 0.2603 - accuracy: 0.9058 - val_loss: 0.3042 - val_accuracy: 0.8910\n",
      "Epoch 23/40\n",
      "55000/55000 [==============================] - 3s 61us/sample - loss: 0.2541 - accuracy: 0.9081 - val_loss: 0.3105 - val_accuracy: 0.8908\n",
      "Epoch 24/40\n",
      "55000/55000 [==============================] - 3s 61us/sample - loss: 0.2507 - accuracy: 0.9093 - val_loss: 0.2997 - val_accuracy: 0.8894\n",
      "Epoch 25/40\n",
      "55000/55000 [==============================] - 3s 59us/sample - loss: 0.2462 - accuracy: 0.9113 - val_loss: 0.2990 - val_accuracy: 0.8928\n",
      "Epoch 26/40\n",
      "55000/55000 [==============================] - 3s 63us/sample - loss: 0.2417 - accuracy: 0.9132 - val_loss: 0.3007 - val_accuracy: 0.8930\n",
      "Epoch 27/40\n",
      "55000/55000 [==============================] - 3s 60us/sample - loss: 0.2379 - accuracy: 0.9137 - val_loss: 0.2962 - val_accuracy: 0.8914\n",
      "Epoch 28/40\n",
      "55000/55000 [==============================] - 3s 59us/sample - loss: 0.2341 - accuracy: 0.9155 - val_loss: 0.3048 - val_accuracy: 0.8920\n",
      "Epoch 29/40\n",
      "55000/55000 [==============================] - 3s 59us/sample - loss: 0.2305 - accuracy: 0.9162 - val_loss: 0.3019 - val_accuracy: 0.8906\n",
      "Epoch 30/40\n",
      "55000/55000 [==============================] - 3s 57us/sample - loss: 0.2266 - accuracy: 0.9183 - val_loss: 0.2942 - val_accuracy: 0.8940\n",
      "Epoch 31/40\n",
      "55000/55000 [==============================] - 3s 61us/sample - loss: 0.2229 - accuracy: 0.9204 - val_loss: 0.2961 - val_accuracy: 0.8922\n",
      "Epoch 32/40\n",
      "55000/55000 [==============================] - 3s 57us/sample - loss: 0.2183 - accuracy: 0.9224 - val_loss: 0.3245 - val_accuracy: 0.8816\n",
      "Epoch 33/40\n",
      "55000/55000 [==============================] - 3s 56us/sample - loss: 0.2160 - accuracy: 0.9224 - val_loss: 0.3044 - val_accuracy: 0.8908\n",
      "Epoch 34/40\n",
      "55000/55000 [==============================] - 3s 58us/sample - loss: 0.2129 - accuracy: 0.9229 - val_loss: 0.2995 - val_accuracy: 0.8936\n",
      "Epoch 35/40\n",
      "55000/55000 [==============================] - 3s 55us/sample - loss: 0.2091 - accuracy: 0.9244 - val_loss: 0.3216 - val_accuracy: 0.8880\n",
      "Epoch 36/40\n",
      "55000/55000 [==============================] - 3s 59us/sample - loss: 0.2053 - accuracy: 0.9261 - val_loss: 0.3136 - val_accuracy: 0.8914\n",
      "Epoch 37/40\n",
      "55000/55000 [==============================] - 3s 57us/sample - loss: 0.2032 - accuracy: 0.9284 - val_loss: 0.2895 - val_accuracy: 0.8948\n",
      "Epoch 38/40\n",
      "55000/55000 [==============================] - 3s 58us/sample - loss: 0.1988 - accuracy: 0.9292 - val_loss: 0.3116 - val_accuracy: 0.8906\n",
      "Epoch 39/40\n",
      "55000/55000 [==============================] - 3s 56us/sample - loss: 0.1957 - accuracy: 0.9303 - val_loss: 0.3016 - val_accuracy: 0.8938\n",
      "Epoch 40/40\n",
      "55000/55000 [==============================] - 3s 59us/sample - loss: 0.1928 - accuracy: 0.9304 - val_loss: 0.3265 - val_accuracy: 0.8860\n"
     ]
    }
   ],
   "source": [
    "results = model1.fit(x_train, y_train, epochs=40,\\\n",
    "                    validation_data=(x_validation, y_validation))"
   ]
  },
  {
   "cell_type": "code",
   "execution_count": 16,
   "id": "022ff1c3",
   "metadata": {},
   "outputs": [
    {
     "data": {
      "image/png": "[encoded data removed]",
      "text/plain": [
       "<Figure size 576x360 with 1 Axes>"
      ]
     },
     "metadata": {
      "needs_background": "light"
     },
     "output_type": "display_data"
    }
   ],
   "source": [
    "import pandas as pd\n",
    "pd.DataFrame(results.history).plot(figsize=(8, 5))\n",
    "plt.grid(True)\n",
    "plt.gca().set_ylim(0, 1)  \n",
    "plt.show()"
   ]
  },
  {
   "cell_type": "code",
   "execution_count": 17,
   "id": "511e56e9",
   "metadata": {},
   "outputs": [
    {
     "name": "stdout",
     "output_type": "stream",
     "text": [
      "Evaluation du modèle :\n",
      "10000/10000 [==============================] - 0s 30us/sample - loss: 0.3590 - accuracy: 0.8811\n"
     ]
    },
    {
     "data": {
      "text/plain": [
       "[0.3590307104289532, 0.8811]"
      ]
     },
     "execution_count": 17,
     "metadata": {},
     "output_type": "execute_result"
    }
   ],
   "source": [
    "x_test= x_test/255.0\n",
    "print(\"Evaluation du modèle :\")\n",
    "model1.evaluate(x_test, y_test)"
   ]
  },
  {
   "cell_type": "code",
   "execution_count": 22,
   "id": "89003656",
   "metadata": {},
   "outputs": [
    {
     "name": "stdout",
     "output_type": "stream",
     "text": [
      "y_prob :\n",
      "[[0.   0.   0.   0.   0.   0.   0.   0.01 0.   0.99]\n",
      " [0.   0.   1.   0.   0.   0.   0.   0.   0.   0.  ]\n",
      " [0.   1.   0.   0.   0.   0.   0.   0.   0.   0.  ]\n",
      " [0.   1.   0.   0.   0.   0.   0.   0.   0.   0.  ]\n",
      " [0.45 0.   0.01 0.   0.   0.   0.53 0.   0.   0.  ]\n",
      " [0.   1.   0.   0.   0.   0.   0.   0.   0.   0.  ]\n",
      " [0.   0.   0.   0.   0.98 0.   0.01 0.   0.   0.  ]]\n",
      "\n",
      "y_prediction :\n",
      " [9 2 1 1 6 1 4]\n"
     ]
    }
   ],
   "source": [
    "x_new = x_test[0:7]\n",
    "y_prob = model1.predict(x_new)\n",
    "print(f\"y_prob :\\n{y_prob.round(2)}\")\n",
    "y_prediction = model1.predict_classes(x_new)\n",
    "print(f\"\\ny_prediction :\\n {y_prediction}\")\n",
    "\n"
   ]
  },
  {
   "cell_type": "code",
   "execution_count": 19,
   "id": "8038c412",
   "metadata": {},
   "outputs": [
    {
     "name": "stdout",
     "output_type": "stream",
     "text": [
      "       Prédictions : ['Ankle boot' 'Pullover' 'Trouser' 'Trouser' 'Shirt' 'Trouser' 'Coat']\n",
      "Les vraies classes : ['Ankle boot' 'Pullover' 'Trouser' 'Trouser' 'Shirt' 'Trouser' 'Coat']\n"
     ]
    }
   ],
   "source": [
    "print(f\"       Prédictions : {np.array(fashion_mnist_class_names)[y_prediction]}\")\n",
    "y_truth = y_test[0:7]\n",
    "print(f\"Les vraies classes : {np.array(fashion_mnist_class_names)[y_truth]}\")"
   ]
  },
  {
   "cell_type": "code",
   "execution_count": null,
   "id": "6c7a8107",
   "metadata": {},
   "outputs": [],
   "source": []
  }
 ],
 "metadata": {
  "kernelspec": {
   "display_name": "Python 3",
   "language": "python",
   "name": "python3"
  },
  "language_info": {
   "codemirror_mode": {
    "name": "ipython",
    "version": 3
   },
   "file_extension": ".py",
   "mimetype": "text/x-python",
   "name": "python",
   "nbconvert_exporter": "python",
   "pygments_lexer": "ipython3",
   "version": "3.6.13"
  }
 },
 "nbformat": 4,
 "nbformat_minor": 5
}

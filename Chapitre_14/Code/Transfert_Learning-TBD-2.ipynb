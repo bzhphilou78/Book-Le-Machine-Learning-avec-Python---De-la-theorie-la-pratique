{
 "cells": [
  {
   "cell_type": "code",
   "execution_count": 4,
   "id": "a259d323",
   "metadata": {},
   "outputs": [],
   "source": [
    "import tensorflow as tf\n",
    "from tensorflow import keras\n",
    "import os\n",
    "import pandas as pd\n",
    "import numpy as np\n",
    "import matplotlib.pyplot as plt\n",
    "from tensorflow.keras.preprocessing import image\n",
    "from tensorflow.keras.applications import vgg16\n",
    "\n",
    "from pathlib import Path\n",
    "import joblib\n",
    "\n",
    "\n",
    "os.environ['TF_CPP_MIN_LOG_LEVEL']='2'\n",
    "\n",
    " \n",
    "male_path = Path(\"../Data/elephants_with_focus/test/males\")\n",
    "female_path = Path(\"../Data/elephants_with_focus/test/females\")\n",
    "\n",
    "\n",
    "test_images = []\n",
    "test_target = []\n",
    "\n",
    "\n",
    "height = 128\n",
    "width = 128\n",
    "\n"
   ]
  },
  {
   "cell_type": "code",
   "execution_count": 5,
   "id": "c19d9a2d",
   "metadata": {},
   "outputs": [
    {
     "ename": "SyntaxError",
     "evalue": "unexpected EOF while parsing (<ipython-input-5-24db50debd0f>, line 15)",
     "output_type": "error",
     "traceback": [
      "\u001b[1;36m  File \u001b[1;32m\"<ipython-input-5-24db50debd0f>\"\u001b[1;36m, line \u001b[1;32m15\u001b[0m\n\u001b[1;33m    y_test = np.array(test_target\u001b[0m\n\u001b[1;37m                                                             ^\u001b[0m\n\u001b[1;31mSyntaxError\u001b[0m\u001b[1;31m:\u001b[0m unexpected EOF while parsing\n"
     ]
    }
   ],
   "source": [
    "\n",
    "\n",
    "for current_file in male_path.glob(\"*.PNG\"):\n",
    "    current_img = image.load_img(current_file, target_size=(height,width))\n",
    "    current_img = image.img_to_array(current_img)  \n",
    "    test_images.append(current_img)\n",
    "    test_target.append(0)\n",
    "\n",
    "                           "
   ]
  },
  {
   "cell_type": "code",
   "execution_count": null,
   "id": "26622ba5",
   "metadata": {},
   "outputs": [],
   "source": [
    "for current_file in female_path.glob(\"*.PNG\"):\n",
    "    current_img = image.load_img(current_file, target_size=(height,width))\n",
    "    current_img = image.img_to_array(current_img)  \n",
    "    test_images.append(current_img)\n",
    "    test_target.append(1)\n",
    "\n",
    "\n",
    "x_test = np.array(test_images)\n",
    "y_test = np.array(test_target "
   ]
  },
  {
   "cell_type": "code",
   "execution_count": null,
   "id": "6b9eab91",
   "metadata": {},
   "outputs": [],
   "source": []
  },
  {
   "cell_type": "code",
   "execution_count": 3,
   "id": "8e54efa2",
   "metadata": {},
   "outputs": [],
   "source": [
    "x_test = vgg16.preprocess_input(x_test)  "
   ]
  },
  {
   "cell_type": "code",
   "execution_count": 2,
   "id": "1d6de9bc",
   "metadata": {},
   "outputs": [],
   "source": [
    "model = keras.models.load_model(\"../Models/vgg_model.h5\")"
   ]
  },
  {
   "cell_type": "code",
   "execution_count": 4,
   "id": "0475877b",
   "metadata": {},
   "outputs": [],
   "source": [
    "pretrained_model= vgg16.VGG16(weights=\"imagenet\", include_top=False, input_shape=(height,width,3)) "
   ]
  },
  {
   "cell_type": "code",
   "execution_count": 5,
   "id": "421ccbd6",
   "metadata": {},
   "outputs": [],
   "source": [
    "features_extracted =  pretrained_model.predict(x_test)"
   ]
  },
  {
   "cell_type": "code",
   "execution_count": 6,
   "id": "e9092896",
   "metadata": {},
   "outputs": [],
   "source": [
    "results = model.predict_classes(features_extracted)"
   ]
  },
  {
   "cell_type": "code",
   "execution_count": 7,
   "id": "8c17a305",
   "metadata": {},
   "outputs": [
    {
     "name": "stdout",
     "output_type": "stream",
     "text": [
      "    Prédictions  Observation\n",
      "0             0            0\n",
      "1             1            0\n",
      "2             1            0\n",
      "3             0            0\n",
      "4             0            0\n",
      "5             0            0\n",
      "6             0            0\n",
      "7             0            0\n",
      "8             0            1\n",
      "9             0            1\n",
      "10            1            1\n",
      "11            0            1\n",
      "12            0            1\n",
      "13            0            1\n",
      "14            0            1\n",
      "15            1            1\n",
      "16            0            1\n",
      "17            1            1\n"
     ]
    }
   ],
   "source": [
    "df = pd.DataFrame({\"Prédictions\":results[:,0],\"Observation\":y_test})\n",
    "print(df) "
   ]
  },
  {
   "cell_type": "code",
   "execution_count": null,
   "id": "e21f2ba2",
   "metadata": {},
   "outputs": [],
   "source": []
  }
 ],
 "metadata": {
  "kernelspec": {
   "display_name": "Python 3",
   "language": "python",
   "name": "python3"
  },
  "language_info": {
   "codemirror_mode": {
    "name": "ipython",
    "version": 3
   },
   "file_extension": ".py",
   "mimetype": "text/x-python",
   "name": "python",
   "nbconvert_exporter": "python",
   "pygments_lexer": "ipython3",
   "version": "3.6.13"
  }
 },
 "nbformat": 4,
 "nbformat_minor": 5
}
